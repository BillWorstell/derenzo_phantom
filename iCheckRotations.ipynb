{
  "cells": [
    {
      "cell_type": "markdown",
      "metadata": {
        "id": "view-in-github",
        "colab_type": "text"
      },
      "source": [
        "<a href=\"https://colab.research.google.com/github/BillWorstell/derenzo_phantom/blob/master/iCheckRotations.ipynb\" target=\"_parent\"><img src=\"https://colab.research.google.com/assets/colab-badge.svg\" alt=\"Open In Colab\"/></a>"
      ]
    },
    {
      "cell_type": "markdown",
      "metadata": {
        "id": "wLo-eNeM1M2_"
      },
      "source": [
        "Open In Colab\n",
        "\n",
        "https://vivekg.dev/DiffDRR/\n",
        "\n",
        "install DiffDRR from PyPI:"
      ]
    },
    {
      "cell_type": "code",
      "execution_count": 1,
      "metadata": {
        "colab": {
          "base_uri": "https://localhost:8080/"
        },
        "id": "fRS1VG-g1Wv_",
        "outputId": "4327efc6-f0de-454c-dadd-ff56a9c9172f"
      },
      "outputs": [
        {
          "output_type": "stream",
          "name": "stdout",
          "text": [
            "Requirement already satisfied: diffdrr in /usr/local/lib/python3.10/dist-packages (0.3.8)\n",
            "Requirement already satisfied: pydicom in /usr/local/lib/python3.10/dist-packages (from diffdrr) (2.4.4)\n",
            "Requirement already satisfied: matplotlib in /usr/local/lib/python3.10/dist-packages (from diffdrr) (3.7.1)\n",
            "Requirement already satisfied: seaborn in /usr/local/lib/python3.10/dist-packages (from diffdrr) (0.12.2)\n",
            "Requirement already satisfied: tqdm in /usr/local/lib/python3.10/dist-packages (from diffdrr) (4.66.1)\n",
            "Requirement already satisfied: imageio in /usr/local/lib/python3.10/dist-packages (from diffdrr) (2.31.6)\n",
            "Requirement already satisfied: fastcore in /usr/local/lib/python3.10/dist-packages (from diffdrr) (1.5.29)\n",
            "Requirement already satisfied: pyvista[all] in /usr/local/lib/python3.10/dist-packages (from diffdrr) (0.43.2)\n",
            "Requirement already satisfied: einops in /usr/local/lib/python3.10/dist-packages (from diffdrr) (0.7.0)\n",
            "Requirement already satisfied: torchvision in /usr/local/lib/python3.10/dist-packages (from diffdrr) (0.16.0+cu121)\n",
            "Requirement already satisfied: torch in /usr/local/lib/python3.10/dist-packages (from diffdrr) (2.1.0+cu121)\n",
            "Requirement already satisfied: pip in /usr/local/lib/python3.10/dist-packages (from fastcore->diffdrr) (23.1.2)\n",
            "Requirement already satisfied: packaging in /usr/local/lib/python3.10/dist-packages (from fastcore->diffdrr) (23.2)\n",
            "Requirement already satisfied: numpy in /usr/local/lib/python3.10/dist-packages (from imageio->diffdrr) (1.23.5)\n",
            "Requirement already satisfied: pillow<10.1.0,>=8.3.2 in /usr/local/lib/python3.10/dist-packages (from imageio->diffdrr) (9.4.0)\n",
            "Requirement already satisfied: contourpy>=1.0.1 in /usr/local/lib/python3.10/dist-packages (from matplotlib->diffdrr) (1.2.0)\n",
            "Requirement already satisfied: cycler>=0.10 in /usr/local/lib/python3.10/dist-packages (from matplotlib->diffdrr) (0.12.1)\n",
            "Requirement already satisfied: fonttools>=4.22.0 in /usr/local/lib/python3.10/dist-packages (from matplotlib->diffdrr) (4.47.0)\n",
            "Requirement already satisfied: kiwisolver>=1.0.1 in /usr/local/lib/python3.10/dist-packages (from matplotlib->diffdrr) (1.4.5)\n",
            "Requirement already satisfied: pyparsing>=2.3.1 in /usr/local/lib/python3.10/dist-packages (from matplotlib->diffdrr) (3.1.1)\n",
            "Requirement already satisfied: python-dateutil>=2.7 in /usr/local/lib/python3.10/dist-packages (from matplotlib->diffdrr) (2.8.2)\n",
            "Requirement already satisfied: pooch in /usr/local/lib/python3.10/dist-packages (from pyvista[all]->diffdrr) (1.8.0)\n",
            "Requirement already satisfied: scooby>=0.5.1 in /usr/local/lib/python3.10/dist-packages (from pyvista[all]->diffdrr) (0.9.2)\n",
            "Requirement already satisfied: vtk in /usr/local/lib/python3.10/dist-packages (from pyvista[all]->diffdrr) (9.3.0)\n",
            "Requirement already satisfied: pandas>=0.25 in /usr/local/lib/python3.10/dist-packages (from seaborn->diffdrr) (1.5.3)\n",
            "Requirement already satisfied: filelock in /usr/local/lib/python3.10/dist-packages (from torch->diffdrr) (3.13.1)\n",
            "Requirement already satisfied: typing-extensions in /usr/local/lib/python3.10/dist-packages (from torch->diffdrr) (4.5.0)\n",
            "Requirement already satisfied: sympy in /usr/local/lib/python3.10/dist-packages (from torch->diffdrr) (1.12)\n",
            "Requirement already satisfied: networkx in /usr/local/lib/python3.10/dist-packages (from torch->diffdrr) (3.2.1)\n",
            "Requirement already satisfied: jinja2 in /usr/local/lib/python3.10/dist-packages (from torch->diffdrr) (3.1.2)\n",
            "Requirement already satisfied: fsspec in /usr/local/lib/python3.10/dist-packages (from torch->diffdrr) (2023.6.0)\n",
            "Requirement already satisfied: triton==2.1.0 in /usr/local/lib/python3.10/dist-packages (from torch->diffdrr) (2.1.0)\n",
            "Requirement already satisfied: requests in /usr/local/lib/python3.10/dist-packages (from torchvision->diffdrr) (2.31.0)\n",
            "Requirement already satisfied: pytz>=2020.1 in /usr/local/lib/python3.10/dist-packages (from pandas>=0.25->seaborn->diffdrr) (2023.3.post1)\n",
            "Requirement already satisfied: six>=1.5 in /usr/local/lib/python3.10/dist-packages (from python-dateutil>=2.7->matplotlib->diffdrr) (1.16.0)\n",
            "Requirement already satisfied: MarkupSafe>=2.0 in /usr/local/lib/python3.10/dist-packages (from jinja2->torch->diffdrr) (2.1.3)\n",
            "Requirement already satisfied: platformdirs>=2.5.0 in /usr/local/lib/python3.10/dist-packages (from pooch->pyvista[all]->diffdrr) (4.1.0)\n",
            "Requirement already satisfied: charset-normalizer<4,>=2 in /usr/local/lib/python3.10/dist-packages (from requests->torchvision->diffdrr) (3.3.2)\n",
            "Requirement already satisfied: idna<4,>=2.5 in /usr/local/lib/python3.10/dist-packages (from requests->torchvision->diffdrr) (3.6)\n",
            "Requirement already satisfied: urllib3<3,>=1.21.1 in /usr/local/lib/python3.10/dist-packages (from requests->torchvision->diffdrr) (2.0.7)\n",
            "Requirement already satisfied: certifi>=2017.4.17 in /usr/local/lib/python3.10/dist-packages (from requests->torchvision->diffdrr) (2023.11.17)\n",
            "Requirement already satisfied: cmocean in /usr/local/lib/python3.10/dist-packages (from pyvista[all]->diffdrr) (3.0.3)\n",
            "Requirement already satisfied: colorcet in /usr/local/lib/python3.10/dist-packages (from pyvista[all]->diffdrr) (3.0.1)\n",
            "Requirement already satisfied: meshio>=5.2 in /usr/local/lib/python3.10/dist-packages (from pyvista[all]->diffdrr) (5.3.4)\n",
            "Requirement already satisfied: ipywidgets in /usr/local/lib/python3.10/dist-packages (from pyvista[all]->diffdrr) (7.7.1)\n",
            "Requirement already satisfied: jupyter-server-proxy in /usr/local/lib/python3.10/dist-packages (from pyvista[all]->diffdrr) (4.1.0)\n",
            "Requirement already satisfied: nest-asyncio in /usr/local/lib/python3.10/dist-packages (from pyvista[all]->diffdrr) (1.5.8)\n",
            "Requirement already satisfied: trame>=2.5.2 in /usr/local/lib/python3.10/dist-packages (from pyvista[all]->diffdrr) (3.5.1)\n",
            "Requirement already satisfied: trame-client>=2.12.7 in /usr/local/lib/python3.10/dist-packages (from pyvista[all]->diffdrr) (2.14.2)\n",
            "Requirement already satisfied: trame-server>=2.11.7 in /usr/local/lib/python3.10/dist-packages (from pyvista[all]->diffdrr) (2.15.0)\n",
            "Requirement already satisfied: trame-vtk>=2.5.8 in /usr/local/lib/python3.10/dist-packages (from pyvista[all]->diffdrr) (2.7.0)\n",
            "Requirement already satisfied: trame-vuetify>=2.3.1 in /usr/local/lib/python3.10/dist-packages (from pyvista[all]->diffdrr) (2.3.1)\n",
            "Requirement already satisfied: mpmath>=0.19 in /usr/local/lib/python3.10/dist-packages (from sympy->torch->diffdrr) (1.3.0)\n",
            "Requirement already satisfied: rich in /usr/local/lib/python3.10/dist-packages (from meshio>=5.2->pyvista[all]->diffdrr) (13.7.0)\n",
            "Requirement already satisfied: wslink>=1.12.2 in /usr/local/lib/python3.10/dist-packages (from trame-server>=2.11.7->pyvista[all]->diffdrr) (1.12.4)\n",
            "Requirement already satisfied: more-itertools in /usr/local/lib/python3.10/dist-packages (from trame-server>=2.11.7->pyvista[all]->diffdrr) (10.1.0)\n",
            "Requirement already satisfied: pyct>=0.4.4 in /usr/local/lib/python3.10/dist-packages (from colorcet->pyvista[all]->diffdrr) (0.5.0)\n",
            "Requirement already satisfied: ipykernel>=4.5.1 in /usr/local/lib/python3.10/dist-packages (from ipywidgets->pyvista[all]->diffdrr) (5.5.6)\n",
            "Requirement already satisfied: ipython-genutils~=0.2.0 in /usr/local/lib/python3.10/dist-packages (from ipywidgets->pyvista[all]->diffdrr) (0.2.0)\n",
            "Requirement already satisfied: traitlets>=4.3.1 in /usr/local/lib/python3.10/dist-packages (from ipywidgets->pyvista[all]->diffdrr) (5.7.1)\n",
            "Requirement already satisfied: widgetsnbextension~=3.6.0 in /usr/local/lib/python3.10/dist-packages (from ipywidgets->pyvista[all]->diffdrr) (3.6.6)\n",
            "Requirement already satisfied: ipython>=4.0.0 in /usr/local/lib/python3.10/dist-packages (from ipywidgets->pyvista[all]->diffdrr) (7.34.0)\n",
            "Requirement already satisfied: jupyterlab-widgets>=1.0.0 in /usr/local/lib/python3.10/dist-packages (from ipywidgets->pyvista[all]->diffdrr) (3.0.9)\n",
            "Requirement already satisfied: aiohttp in /usr/local/lib/python3.10/dist-packages (from jupyter-server-proxy->pyvista[all]->diffdrr) (3.9.1)\n",
            "Requirement already satisfied: jupyter-server>=1.0 in /usr/local/lib/python3.10/dist-packages (from jupyter-server-proxy->pyvista[all]->diffdrr) (1.24.0)\n",
            "Requirement already satisfied: simpervisor>=1.0 in /usr/local/lib/python3.10/dist-packages (from jupyter-server-proxy->pyvista[all]->diffdrr) (1.0.0)\n",
            "Requirement already satisfied: jupyter-client in /usr/local/lib/python3.10/dist-packages (from ipykernel>=4.5.1->ipywidgets->pyvista[all]->diffdrr) (6.1.12)\n",
            "Requirement already satisfied: tornado>=4.2 in /usr/local/lib/python3.10/dist-packages (from ipykernel>=4.5.1->ipywidgets->pyvista[all]->diffdrr) (6.3.2)\n",
            "Requirement already satisfied: setuptools>=18.5 in /usr/local/lib/python3.10/dist-packages (from ipython>=4.0.0->ipywidgets->pyvista[all]->diffdrr) (67.7.2)\n",
            "Requirement already satisfied: jedi>=0.16 in /usr/local/lib/python3.10/dist-packages (from ipython>=4.0.0->ipywidgets->pyvista[all]->diffdrr) (0.19.1)\n",
            "Requirement already satisfied: decorator in /usr/local/lib/python3.10/dist-packages (from ipython>=4.0.0->ipywidgets->pyvista[all]->diffdrr) (4.4.2)\n",
            "Requirement already satisfied: pickleshare in /usr/local/lib/python3.10/dist-packages (from ipython>=4.0.0->ipywidgets->pyvista[all]->diffdrr) (0.7.5)\n",
            "Requirement already satisfied: prompt-toolkit!=3.0.0,!=3.0.1,<3.1.0,>=2.0.0 in /usr/local/lib/python3.10/dist-packages (from ipython>=4.0.0->ipywidgets->pyvista[all]->diffdrr) (3.0.43)\n",
            "Requirement already satisfied: pygments in /usr/local/lib/python3.10/dist-packages (from ipython>=4.0.0->ipywidgets->pyvista[all]->diffdrr) (2.16.1)\n",
            "Requirement already satisfied: backcall in /usr/local/lib/python3.10/dist-packages (from ipython>=4.0.0->ipywidgets->pyvista[all]->diffdrr) (0.2.0)\n",
            "Requirement already satisfied: matplotlib-inline in /usr/local/lib/python3.10/dist-packages (from ipython>=4.0.0->ipywidgets->pyvista[all]->diffdrr) (0.1.6)\n",
            "Requirement already satisfied: pexpect>4.3 in /usr/local/lib/python3.10/dist-packages (from ipython>=4.0.0->ipywidgets->pyvista[all]->diffdrr) (4.9.0)\n",
            "Requirement already satisfied: anyio<4,>=3.1.0 in /usr/local/lib/python3.10/dist-packages (from jupyter-server>=1.0->jupyter-server-proxy->pyvista[all]->diffdrr) (3.7.1)\n",
            "Requirement already satisfied: argon2-cffi in /usr/local/lib/python3.10/dist-packages (from jupyter-server>=1.0->jupyter-server-proxy->pyvista[all]->diffdrr) (23.1.0)\n",
            "Requirement already satisfied: jupyter-core!=5.0.*,>=4.12 in /usr/local/lib/python3.10/dist-packages (from jupyter-server>=1.0->jupyter-server-proxy->pyvista[all]->diffdrr) (5.7.0)\n",
            "Requirement already satisfied: nbconvert>=6.4.4 in /usr/local/lib/python3.10/dist-packages (from jupyter-server>=1.0->jupyter-server-proxy->pyvista[all]->diffdrr) (6.5.4)\n",
            "Requirement already satisfied: nbformat>=5.2.0 in /usr/local/lib/python3.10/dist-packages (from jupyter-server>=1.0->jupyter-server-proxy->pyvista[all]->diffdrr) (5.9.2)\n",
            "Requirement already satisfied: prometheus-client in /usr/local/lib/python3.10/dist-packages (from jupyter-server>=1.0->jupyter-server-proxy->pyvista[all]->diffdrr) (0.19.0)\n",
            "Requirement already satisfied: pyzmq>=17 in /usr/local/lib/python3.10/dist-packages (from jupyter-server>=1.0->jupyter-server-proxy->pyvista[all]->diffdrr) (23.2.1)\n",
            "Requirement already satisfied: Send2Trash in /usr/local/lib/python3.10/dist-packages (from jupyter-server>=1.0->jupyter-server-proxy->pyvista[all]->diffdrr) (1.8.2)\n",
            "Requirement already satisfied: terminado>=0.8.3 in /usr/local/lib/python3.10/dist-packages (from jupyter-server>=1.0->jupyter-server-proxy->pyvista[all]->diffdrr) (0.18.0)\n",
            "Requirement already satisfied: websocket-client in /usr/local/lib/python3.10/dist-packages (from jupyter-server>=1.0->jupyter-server-proxy->pyvista[all]->diffdrr) (1.7.0)\n",
            "Requirement already satisfied: param>=1.7.0 in /usr/local/lib/python3.10/dist-packages (from pyct>=0.4.4->colorcet->pyvista[all]->diffdrr) (2.0.1)\n",
            "Requirement already satisfied: notebook>=4.4.1 in /usr/local/lib/python3.10/dist-packages (from widgetsnbextension~=3.6.0->ipywidgets->pyvista[all]->diffdrr) (6.5.5)\n",
            "Requirement already satisfied: attrs>=17.3.0 in /usr/local/lib/python3.10/dist-packages (from aiohttp->jupyter-server-proxy->pyvista[all]->diffdrr) (23.2.0)\n",
            "Requirement already satisfied: multidict<7.0,>=4.5 in /usr/local/lib/python3.10/dist-packages (from aiohttp->jupyter-server-proxy->pyvista[all]->diffdrr) (6.0.4)\n",
            "Requirement already satisfied: yarl<2.0,>=1.0 in /usr/local/lib/python3.10/dist-packages (from aiohttp->jupyter-server-proxy->pyvista[all]->diffdrr) (1.9.4)\n",
            "Requirement already satisfied: frozenlist>=1.1.1 in /usr/local/lib/python3.10/dist-packages (from aiohttp->jupyter-server-proxy->pyvista[all]->diffdrr) (1.4.1)\n",
            "Requirement already satisfied: aiosignal>=1.1.2 in /usr/local/lib/python3.10/dist-packages (from aiohttp->jupyter-server-proxy->pyvista[all]->diffdrr) (1.3.1)\n",
            "Requirement already satisfied: async-timeout<5.0,>=4.0 in /usr/local/lib/python3.10/dist-packages (from aiohttp->jupyter-server-proxy->pyvista[all]->diffdrr) (4.0.3)\n",
            "Requirement already satisfied: markdown-it-py>=2.2.0 in /usr/local/lib/python3.10/dist-packages (from rich->meshio>=5.2->pyvista[all]->diffdrr) (3.0.0)\n",
            "Requirement already satisfied: sniffio>=1.1 in /usr/local/lib/python3.10/dist-packages (from anyio<4,>=3.1.0->jupyter-server>=1.0->jupyter-server-proxy->pyvista[all]->diffdrr) (1.3.0)\n",
            "Requirement already satisfied: exceptiongroup in /usr/local/lib/python3.10/dist-packages (from anyio<4,>=3.1.0->jupyter-server>=1.0->jupyter-server-proxy->pyvista[all]->diffdrr) (1.2.0)\n",
            "Requirement already satisfied: parso<0.9.0,>=0.8.3 in /usr/local/lib/python3.10/dist-packages (from jedi>=0.16->ipython>=4.0.0->ipywidgets->pyvista[all]->diffdrr) (0.8.3)\n",
            "Requirement already satisfied: mdurl~=0.1 in /usr/local/lib/python3.10/dist-packages (from markdown-it-py>=2.2.0->rich->meshio>=5.2->pyvista[all]->diffdrr) (0.1.2)\n",
            "Requirement already satisfied: lxml in /usr/local/lib/python3.10/dist-packages (from nbconvert>=6.4.4->jupyter-server>=1.0->jupyter-server-proxy->pyvista[all]->diffdrr) (4.9.4)\n",
            "Requirement already satisfied: beautifulsoup4 in /usr/local/lib/python3.10/dist-packages (from nbconvert>=6.4.4->jupyter-server>=1.0->jupyter-server-proxy->pyvista[all]->diffdrr) (4.11.2)\n",
            "Requirement already satisfied: bleach in /usr/local/lib/python3.10/dist-packages (from nbconvert>=6.4.4->jupyter-server>=1.0->jupyter-server-proxy->pyvista[all]->diffdrr) (6.1.0)\n",
            "Requirement already satisfied: defusedxml in /usr/local/lib/python3.10/dist-packages (from nbconvert>=6.4.4->jupyter-server>=1.0->jupyter-server-proxy->pyvista[all]->diffdrr) (0.7.1)\n",
            "Requirement already satisfied: entrypoints>=0.2.2 in /usr/local/lib/python3.10/dist-packages (from nbconvert>=6.4.4->jupyter-server>=1.0->jupyter-server-proxy->pyvista[all]->diffdrr) (0.4)\n",
            "Requirement already satisfied: jupyterlab-pygments in /usr/local/lib/python3.10/dist-packages (from nbconvert>=6.4.4->jupyter-server>=1.0->jupyter-server-proxy->pyvista[all]->diffdrr) (0.3.0)\n",
            "Requirement already satisfied: mistune<2,>=0.8.1 in /usr/local/lib/python3.10/dist-packages (from nbconvert>=6.4.4->jupyter-server>=1.0->jupyter-server-proxy->pyvista[all]->diffdrr) (0.8.4)\n",
            "Requirement already satisfied: nbclient>=0.5.0 in /usr/local/lib/python3.10/dist-packages (from nbconvert>=6.4.4->jupyter-server>=1.0->jupyter-server-proxy->pyvista[all]->diffdrr) (0.9.0)\n",
            "Requirement already satisfied: pandocfilters>=1.4.1 in /usr/local/lib/python3.10/dist-packages (from nbconvert>=6.4.4->jupyter-server>=1.0->jupyter-server-proxy->pyvista[all]->diffdrr) (1.5.0)\n",
            "Requirement already satisfied: tinycss2 in /usr/local/lib/python3.10/dist-packages (from nbconvert>=6.4.4->jupyter-server>=1.0->jupyter-server-proxy->pyvista[all]->diffdrr) (1.2.1)\n",
            "Requirement already satisfied: fastjsonschema in /usr/local/lib/python3.10/dist-packages (from nbformat>=5.2.0->jupyter-server>=1.0->jupyter-server-proxy->pyvista[all]->diffdrr) (2.19.1)\n",
            "Requirement already satisfied: jsonschema>=2.6 in /usr/local/lib/python3.10/dist-packages (from nbformat>=5.2.0->jupyter-server>=1.0->jupyter-server-proxy->pyvista[all]->diffdrr) (4.19.2)\n",
            "Requirement already satisfied: nbclassic>=0.4.7 in /usr/local/lib/python3.10/dist-packages (from notebook>=4.4.1->widgetsnbextension~=3.6.0->ipywidgets->pyvista[all]->diffdrr) (1.0.0)\n",
            "Requirement already satisfied: ptyprocess>=0.5 in /usr/local/lib/python3.10/dist-packages (from pexpect>4.3->ipython>=4.0.0->ipywidgets->pyvista[all]->diffdrr) (0.7.0)\n",
            "Requirement already satisfied: wcwidth in /usr/local/lib/python3.10/dist-packages (from prompt-toolkit!=3.0.0,!=3.0.1,<3.1.0,>=2.0.0->ipython>=4.0.0->ipywidgets->pyvista[all]->diffdrr) (0.2.12)\n",
            "Requirement already satisfied: argon2-cffi-bindings in /usr/local/lib/python3.10/dist-packages (from argon2-cffi->jupyter-server>=1.0->jupyter-server-proxy->pyvista[all]->diffdrr) (21.2.0)\n",
            "Requirement already satisfied: jsonschema-specifications>=2023.03.6 in /usr/local/lib/python3.10/dist-packages (from jsonschema>=2.6->nbformat>=5.2.0->jupyter-server>=1.0->jupyter-server-proxy->pyvista[all]->diffdrr) (2023.12.1)\n",
            "Requirement already satisfied: referencing>=0.28.4 in /usr/local/lib/python3.10/dist-packages (from jsonschema>=2.6->nbformat>=5.2.0->jupyter-server>=1.0->jupyter-server-proxy->pyvista[all]->diffdrr) (0.32.1)\n",
            "Requirement already satisfied: rpds-py>=0.7.1 in /usr/local/lib/python3.10/dist-packages (from jsonschema>=2.6->nbformat>=5.2.0->jupyter-server>=1.0->jupyter-server-proxy->pyvista[all]->diffdrr) (0.16.2)\n",
            "Requirement already satisfied: notebook-shim>=0.2.3 in /usr/local/lib/python3.10/dist-packages (from nbclassic>=0.4.7->notebook>=4.4.1->widgetsnbextension~=3.6.0->ipywidgets->pyvista[all]->diffdrr) (0.2.3)\n",
            "Requirement already satisfied: cffi>=1.0.1 in /usr/local/lib/python3.10/dist-packages (from argon2-cffi-bindings->argon2-cffi->jupyter-server>=1.0->jupyter-server-proxy->pyvista[all]->diffdrr) (1.16.0)\n",
            "Requirement already satisfied: soupsieve>1.2 in /usr/local/lib/python3.10/dist-packages (from beautifulsoup4->nbconvert>=6.4.4->jupyter-server>=1.0->jupyter-server-proxy->pyvista[all]->diffdrr) (2.5)\n",
            "Requirement already satisfied: webencodings in /usr/local/lib/python3.10/dist-packages (from bleach->nbconvert>=6.4.4->jupyter-server>=1.0->jupyter-server-proxy->pyvista[all]->diffdrr) (0.5.1)\n",
            "Requirement already satisfied: pycparser in /usr/local/lib/python3.10/dist-packages (from cffi>=1.0.1->argon2-cffi-bindings->argon2-cffi->jupyter-server>=1.0->jupyter-server-proxy->pyvista[all]->diffdrr) (2.21)\n"
          ]
        }
      ],
      "source": [
        "!pip install diffdrr"
      ]
    },
    {
      "cell_type": "markdown",
      "metadata": {
        "id": "VUrnoGBd12a4"
      },
      "source": [
        "#Set up DiffDRR environment"
      ]
    },
    {
      "cell_type": "code",
      "execution_count": 2,
      "metadata": {
        "id": "Oni85hk_2Xuv"
      },
      "outputs": [],
      "source": [
        "import os\n",
        "import sys\n",
        "import torch\n",
        "need_pytorch3d=False\n",
        "try:\n",
        "    import pytorch3d\n",
        "except ModuleNotFoundError:\n",
        "    need_pytorch3d=True\n",
        "if need_pytorch3d:\n",
        "    if torch.__version__.startswith(\"2.1.\") and sys.platform.startswith(\"linux\"):\n",
        "        # We try to install PyTorch3D via a released wheel.\n",
        "        pyt_version_str=torch.__version__.split(\"+\")[0].replace(\".\", \"\")\n",
        "        version_str=\"\".join([\n",
        "            f\"py3{sys.version_info.minor}_cu\",\n",
        "            torch.version.cuda.replace(\".\",\"\"),\n",
        "            f\"_pyt{pyt_version_str}\"\n",
        "        ])\n",
        "        !pip install fvcore iopath\n",
        "        !pip install --no-index --no-cache-dir pytorch3d -f https://dl.fbaipublicfiles.com/pytorch3d/packaging/wheels/{version_str}/download.html\n",
        "    else:\n",
        "        # We try to install PyTorch3D from source.\n",
        "        !pip install 'git+https://github.com/facebookresearch/pytorch3d.git@stable'\n",
        "\n"
      ]
    },
    {
      "cell_type": "markdown",
      "source": [
        "Install icecream for debug printing\n",
        "\n",
        "https://github.com/gruns/icecream"
      ],
      "metadata": {
        "id": "kuCWUNDvKZTb"
      }
    },
    {
      "cell_type": "code",
      "source": [
        "!pip install icecream\n",
        "from icecream import ic"
      ],
      "metadata": {
        "colab": {
          "base_uri": "https://localhost:8080/"
        },
        "id": "17QdvGoAKb3y",
        "outputId": "9d9ec587-7e8d-4de0-e487-b77e773592ef"
      },
      "execution_count": 3,
      "outputs": [
        {
          "output_type": "stream",
          "name": "stdout",
          "text": [
            "Requirement already satisfied: icecream in /usr/local/lib/python3.10/dist-packages (2.1.3)\n",
            "Requirement already satisfied: colorama>=0.3.9 in /usr/local/lib/python3.10/dist-packages (from icecream) (0.4.6)\n",
            "Requirement already satisfied: pygments>=2.2.0 in /usr/local/lib/python3.10/dist-packages (from icecream) (2.16.1)\n",
            "Requirement already satisfied: executing>=0.3.1 in /usr/local/lib/python3.10/dist-packages (from icecream) (2.0.1)\n",
            "Requirement already satisfied: asttokens>=2.0.1 in /usr/local/lib/python3.10/dist-packages (from icecream) (2.4.1)\n",
            "Requirement already satisfied: six>=1.12.0 in /usr/local/lib/python3.10/dist-packages (from asttokens>=2.0.1->icecream) (1.16.0)\n"
          ]
        }
      ]
    },
    {
      "cell_type": "markdown",
      "metadata": {
        "id": "wAKNa6WfzIIe"
      },
      "source": [
        "From https://github.com/rossbar/derenzo_phantom"
      ]
    },
    {
      "cell_type": "markdown",
      "metadata": {
        "id": "N-5FBdqFptfC"
      },
      "source": [
        "From derenzo_log.py"
      ]
    },
    {
      "cell_type": "code",
      "execution_count": 4,
      "metadata": {
        "id": "Ue-W2Ulvp17g"
      },
      "outputs": [],
      "source": [
        "import warnings\n",
        "import numpy as np\n",
        "import matplotlib.pyplot as plt\n",
        "import matplotlib.patches as mpp"
      ]
    },
    {
      "cell_type": "markdown",
      "metadata": {
        "id": "U4Q37hA8fGRz"
      },
      "source": [
        "https://vivekg.dev/DiffDRR/\n",
        "\n",
        "Usage\n",
        "\n",
        "The following minimal example specifies the geometry of the projectional radiograph imaging system and traces rays through a CT volume:"
      ]
    },
    {
      "cell_type": "markdown",
      "metadata": {
        "id": "yyMM03FQGJe2"
      },
      "source": [
        "#Install DiffDRR"
      ]
    },
    {
      "cell_type": "markdown",
      "metadata": {
        "id": "OahSAZfbG-_v"
      },
      "source": [
        "Use the version of DiffDRR posted on github"
      ]
    },
    {
      "cell_type": "code",
      "execution_count": 5,
      "metadata": {
        "colab": {
          "base_uri": "https://localhost:8080/"
        },
        "id": "xAQelSm2GKNq",
        "outputId": "576ec0c5-1b92-471e-95da-8cde7eb41361"
      },
      "outputs": [
        {
          "output_type": "stream",
          "name": "stdout",
          "text": [
            "Collecting git+https://github.com/BillWorstell/DiffDRR.git\n",
            "  Cloning https://github.com/BillWorstell/DiffDRR.git to /tmp/pip-req-build-buy_uvja\n",
            "  Running command git clone --filter=blob:none --quiet https://github.com/BillWorstell/DiffDRR.git /tmp/pip-req-build-buy_uvja\n",
            "  Resolved https://github.com/BillWorstell/DiffDRR.git to commit 4e415ec1305a0ccf067cddf4bec24246807ec87b\n",
            "  Preparing metadata (setup.py) ... \u001b[?25l\u001b[?25hdone\n",
            "Requirement already satisfied: pydicom in /usr/local/lib/python3.10/dist-packages (from diffdrr==0.3.8) (2.4.4)\n",
            "Requirement already satisfied: matplotlib in /usr/local/lib/python3.10/dist-packages (from diffdrr==0.3.8) (3.7.1)\n",
            "Requirement already satisfied: seaborn in /usr/local/lib/python3.10/dist-packages (from diffdrr==0.3.8) (0.12.2)\n",
            "Requirement already satisfied: tqdm in /usr/local/lib/python3.10/dist-packages (from diffdrr==0.3.8) (4.66.1)\n",
            "Requirement already satisfied: imageio in /usr/local/lib/python3.10/dist-packages (from diffdrr==0.3.8) (2.31.6)\n",
            "Requirement already satisfied: fastcore in /usr/local/lib/python3.10/dist-packages (from diffdrr==0.3.8) (1.5.29)\n",
            "Requirement already satisfied: pyvista[all] in /usr/local/lib/python3.10/dist-packages (from diffdrr==0.3.8) (0.43.2)\n",
            "Requirement already satisfied: einops in /usr/local/lib/python3.10/dist-packages (from diffdrr==0.3.8) (0.7.0)\n",
            "Requirement already satisfied: torchvision in /usr/local/lib/python3.10/dist-packages (from diffdrr==0.3.8) (0.16.0+cu121)\n",
            "Requirement already satisfied: pytorchse3 in /usr/local/lib/python3.10/dist-packages (from diffdrr==0.3.8) (0.0.3)\n",
            "Requirement already satisfied: torch in /usr/local/lib/python3.10/dist-packages (from diffdrr==0.3.8) (2.1.0+cu121)\n",
            "Requirement already satisfied: pip in /usr/local/lib/python3.10/dist-packages (from fastcore->diffdrr==0.3.8) (23.1.2)\n",
            "Requirement already satisfied: packaging in /usr/local/lib/python3.10/dist-packages (from fastcore->diffdrr==0.3.8) (23.2)\n",
            "Requirement already satisfied: numpy in /usr/local/lib/python3.10/dist-packages (from imageio->diffdrr==0.3.8) (1.23.5)\n",
            "Requirement already satisfied: pillow<10.1.0,>=8.3.2 in /usr/local/lib/python3.10/dist-packages (from imageio->diffdrr==0.3.8) (9.4.0)\n",
            "Requirement already satisfied: contourpy>=1.0.1 in /usr/local/lib/python3.10/dist-packages (from matplotlib->diffdrr==0.3.8) (1.2.0)\n",
            "Requirement already satisfied: cycler>=0.10 in /usr/local/lib/python3.10/dist-packages (from matplotlib->diffdrr==0.3.8) (0.12.1)\n",
            "Requirement already satisfied: fonttools>=4.22.0 in /usr/local/lib/python3.10/dist-packages (from matplotlib->diffdrr==0.3.8) (4.47.0)\n",
            "Requirement already satisfied: kiwisolver>=1.0.1 in /usr/local/lib/python3.10/dist-packages (from matplotlib->diffdrr==0.3.8) (1.4.5)\n",
            "Requirement already satisfied: pyparsing>=2.3.1 in /usr/local/lib/python3.10/dist-packages (from matplotlib->diffdrr==0.3.8) (3.1.1)\n",
            "Requirement already satisfied: python-dateutil>=2.7 in /usr/local/lib/python3.10/dist-packages (from matplotlib->diffdrr==0.3.8) (2.8.2)\n",
            "Requirement already satisfied: pooch in /usr/local/lib/python3.10/dist-packages (from pyvista[all]->diffdrr==0.3.8) (1.8.0)\n",
            "Requirement already satisfied: scooby>=0.5.1 in /usr/local/lib/python3.10/dist-packages (from pyvista[all]->diffdrr==0.3.8) (0.9.2)\n",
            "Requirement already satisfied: vtk in /usr/local/lib/python3.10/dist-packages (from pyvista[all]->diffdrr==0.3.8) (9.3.0)\n",
            "Requirement already satisfied: pandas>=0.25 in /usr/local/lib/python3.10/dist-packages (from seaborn->diffdrr==0.3.8) (1.5.3)\n",
            "Requirement already satisfied: filelock in /usr/local/lib/python3.10/dist-packages (from torch->diffdrr==0.3.8) (3.13.1)\n",
            "Requirement already satisfied: typing-extensions in /usr/local/lib/python3.10/dist-packages (from torch->diffdrr==0.3.8) (4.5.0)\n",
            "Requirement already satisfied: sympy in /usr/local/lib/python3.10/dist-packages (from torch->diffdrr==0.3.8) (1.12)\n",
            "Requirement already satisfied: networkx in /usr/local/lib/python3.10/dist-packages (from torch->diffdrr==0.3.8) (3.2.1)\n",
            "Requirement already satisfied: jinja2 in /usr/local/lib/python3.10/dist-packages (from torch->diffdrr==0.3.8) (3.1.2)\n",
            "Requirement already satisfied: fsspec in /usr/local/lib/python3.10/dist-packages (from torch->diffdrr==0.3.8) (2023.6.0)\n",
            "Requirement already satisfied: triton==2.1.0 in /usr/local/lib/python3.10/dist-packages (from torch->diffdrr==0.3.8) (2.1.0)\n",
            "Requirement already satisfied: requests in /usr/local/lib/python3.10/dist-packages (from torchvision->diffdrr==0.3.8) (2.31.0)\n",
            "Requirement already satisfied: pytz>=2020.1 in /usr/local/lib/python3.10/dist-packages (from pandas>=0.25->seaborn->diffdrr==0.3.8) (2023.3.post1)\n",
            "Requirement already satisfied: six>=1.5 in /usr/local/lib/python3.10/dist-packages (from python-dateutil>=2.7->matplotlib->diffdrr==0.3.8) (1.16.0)\n",
            "Requirement already satisfied: MarkupSafe>=2.0 in /usr/local/lib/python3.10/dist-packages (from jinja2->torch->diffdrr==0.3.8) (2.1.3)\n",
            "Requirement already satisfied: platformdirs>=2.5.0 in /usr/local/lib/python3.10/dist-packages (from pooch->pyvista[all]->diffdrr==0.3.8) (4.1.0)\n",
            "Requirement already satisfied: charset-normalizer<4,>=2 in /usr/local/lib/python3.10/dist-packages (from requests->torchvision->diffdrr==0.3.8) (3.3.2)\n",
            "Requirement already satisfied: idna<4,>=2.5 in /usr/local/lib/python3.10/dist-packages (from requests->torchvision->diffdrr==0.3.8) (3.6)\n",
            "Requirement already satisfied: urllib3<3,>=1.21.1 in /usr/local/lib/python3.10/dist-packages (from requests->torchvision->diffdrr==0.3.8) (2.0.7)\n",
            "Requirement already satisfied: certifi>=2017.4.17 in /usr/local/lib/python3.10/dist-packages (from requests->torchvision->diffdrr==0.3.8) (2023.11.17)\n",
            "Requirement already satisfied: ipywidgets in /usr/local/lib/python3.10/dist-packages (from pyvista[all]->diffdrr==0.3.8) (7.7.1)\n",
            "Requirement already satisfied: jupyter-server-proxy in /usr/local/lib/python3.10/dist-packages (from pyvista[all]->diffdrr==0.3.8) (4.1.0)\n",
            "Requirement already satisfied: nest-asyncio in /usr/local/lib/python3.10/dist-packages (from pyvista[all]->diffdrr==0.3.8) (1.5.8)\n",
            "Requirement already satisfied: trame>=2.5.2 in /usr/local/lib/python3.10/dist-packages (from pyvista[all]->diffdrr==0.3.8) (3.5.1)\n",
            "Requirement already satisfied: trame-client>=2.12.7 in /usr/local/lib/python3.10/dist-packages (from pyvista[all]->diffdrr==0.3.8) (2.14.2)\n",
            "Requirement already satisfied: trame-server>=2.11.7 in /usr/local/lib/python3.10/dist-packages (from pyvista[all]->diffdrr==0.3.8) (2.15.0)\n",
            "Requirement already satisfied: trame-vtk>=2.5.8 in /usr/local/lib/python3.10/dist-packages (from pyvista[all]->diffdrr==0.3.8) (2.7.0)\n",
            "Requirement already satisfied: trame-vuetify>=2.3.1 in /usr/local/lib/python3.10/dist-packages (from pyvista[all]->diffdrr==0.3.8) (2.3.1)\n",
            "Requirement already satisfied: meshio>=5.2 in /usr/local/lib/python3.10/dist-packages (from pyvista[all]->diffdrr==0.3.8) (5.3.4)\n",
            "Requirement already satisfied: cmocean in /usr/local/lib/python3.10/dist-packages (from pyvista[all]->diffdrr==0.3.8) (3.0.3)\n",
            "Requirement already satisfied: colorcet in /usr/local/lib/python3.10/dist-packages (from pyvista[all]->diffdrr==0.3.8) (3.0.1)\n",
            "Requirement already satisfied: mpmath>=0.19 in /usr/local/lib/python3.10/dist-packages (from sympy->torch->diffdrr==0.3.8) (1.3.0)\n",
            "Requirement already satisfied: rich in /usr/local/lib/python3.10/dist-packages (from meshio>=5.2->pyvista[all]->diffdrr==0.3.8) (13.7.0)\n",
            "Requirement already satisfied: wslink>=1.12.2 in /usr/local/lib/python3.10/dist-packages (from trame-server>=2.11.7->pyvista[all]->diffdrr==0.3.8) (1.12.4)\n",
            "Requirement already satisfied: more-itertools in /usr/local/lib/python3.10/dist-packages (from trame-server>=2.11.7->pyvista[all]->diffdrr==0.3.8) (10.1.0)\n",
            "Requirement already satisfied: pyct>=0.4.4 in /usr/local/lib/python3.10/dist-packages (from colorcet->pyvista[all]->diffdrr==0.3.8) (0.5.0)\n",
            "Requirement already satisfied: ipykernel>=4.5.1 in /usr/local/lib/python3.10/dist-packages (from ipywidgets->pyvista[all]->diffdrr==0.3.8) (5.5.6)\n",
            "Requirement already satisfied: ipython-genutils~=0.2.0 in /usr/local/lib/python3.10/dist-packages (from ipywidgets->pyvista[all]->diffdrr==0.3.8) (0.2.0)\n",
            "Requirement already satisfied: traitlets>=4.3.1 in /usr/local/lib/python3.10/dist-packages (from ipywidgets->pyvista[all]->diffdrr==0.3.8) (5.7.1)\n",
            "Requirement already satisfied: widgetsnbextension~=3.6.0 in /usr/local/lib/python3.10/dist-packages (from ipywidgets->pyvista[all]->diffdrr==0.3.8) (3.6.6)\n",
            "Requirement already satisfied: ipython>=4.0.0 in /usr/local/lib/python3.10/dist-packages (from ipywidgets->pyvista[all]->diffdrr==0.3.8) (7.34.0)\n",
            "Requirement already satisfied: jupyterlab-widgets>=1.0.0 in /usr/local/lib/python3.10/dist-packages (from ipywidgets->pyvista[all]->diffdrr==0.3.8) (3.0.9)\n",
            "Requirement already satisfied: aiohttp in /usr/local/lib/python3.10/dist-packages (from jupyter-server-proxy->pyvista[all]->diffdrr==0.3.8) (3.9.1)\n",
            "Requirement already satisfied: jupyter-server>=1.0 in /usr/local/lib/python3.10/dist-packages (from jupyter-server-proxy->pyvista[all]->diffdrr==0.3.8) (1.24.0)\n",
            "Requirement already satisfied: simpervisor>=1.0 in /usr/local/lib/python3.10/dist-packages (from jupyter-server-proxy->pyvista[all]->diffdrr==0.3.8) (1.0.0)\n",
            "Requirement already satisfied: jupyter-client in /usr/local/lib/python3.10/dist-packages (from ipykernel>=4.5.1->ipywidgets->pyvista[all]->diffdrr==0.3.8) (6.1.12)\n",
            "Requirement already satisfied: tornado>=4.2 in /usr/local/lib/python3.10/dist-packages (from ipykernel>=4.5.1->ipywidgets->pyvista[all]->diffdrr==0.3.8) (6.3.2)\n",
            "Requirement already satisfied: setuptools>=18.5 in /usr/local/lib/python3.10/dist-packages (from ipython>=4.0.0->ipywidgets->pyvista[all]->diffdrr==0.3.8) (67.7.2)\n",
            "Requirement already satisfied: jedi>=0.16 in /usr/local/lib/python3.10/dist-packages (from ipython>=4.0.0->ipywidgets->pyvista[all]->diffdrr==0.3.8) (0.19.1)\n",
            "Requirement already satisfied: decorator in /usr/local/lib/python3.10/dist-packages (from ipython>=4.0.0->ipywidgets->pyvista[all]->diffdrr==0.3.8) (4.4.2)\n",
            "Requirement already satisfied: pickleshare in /usr/local/lib/python3.10/dist-packages (from ipython>=4.0.0->ipywidgets->pyvista[all]->diffdrr==0.3.8) (0.7.5)\n",
            "Requirement already satisfied: prompt-toolkit!=3.0.0,!=3.0.1,<3.1.0,>=2.0.0 in /usr/local/lib/python3.10/dist-packages (from ipython>=4.0.0->ipywidgets->pyvista[all]->diffdrr==0.3.8) (3.0.43)\n",
            "Requirement already satisfied: pygments in /usr/local/lib/python3.10/dist-packages (from ipython>=4.0.0->ipywidgets->pyvista[all]->diffdrr==0.3.8) (2.16.1)\n",
            "Requirement already satisfied: backcall in /usr/local/lib/python3.10/dist-packages (from ipython>=4.0.0->ipywidgets->pyvista[all]->diffdrr==0.3.8) (0.2.0)\n",
            "Requirement already satisfied: matplotlib-inline in /usr/local/lib/python3.10/dist-packages (from ipython>=4.0.0->ipywidgets->pyvista[all]->diffdrr==0.3.8) (0.1.6)\n",
            "Requirement already satisfied: pexpect>4.3 in /usr/local/lib/python3.10/dist-packages (from ipython>=4.0.0->ipywidgets->pyvista[all]->diffdrr==0.3.8) (4.9.0)\n",
            "Requirement already satisfied: anyio<4,>=3.1.0 in /usr/local/lib/python3.10/dist-packages (from jupyter-server>=1.0->jupyter-server-proxy->pyvista[all]->diffdrr==0.3.8) (3.7.1)\n",
            "Requirement already satisfied: argon2-cffi in /usr/local/lib/python3.10/dist-packages (from jupyter-server>=1.0->jupyter-server-proxy->pyvista[all]->diffdrr==0.3.8) (23.1.0)\n",
            "Requirement already satisfied: jupyter-core!=5.0.*,>=4.12 in /usr/local/lib/python3.10/dist-packages (from jupyter-server>=1.0->jupyter-server-proxy->pyvista[all]->diffdrr==0.3.8) (5.7.0)\n",
            "Requirement already satisfied: nbconvert>=6.4.4 in /usr/local/lib/python3.10/dist-packages (from jupyter-server>=1.0->jupyter-server-proxy->pyvista[all]->diffdrr==0.3.8) (6.5.4)\n",
            "Requirement already satisfied: nbformat>=5.2.0 in /usr/local/lib/python3.10/dist-packages (from jupyter-server>=1.0->jupyter-server-proxy->pyvista[all]->diffdrr==0.3.8) (5.9.2)\n",
            "Requirement already satisfied: prometheus-client in /usr/local/lib/python3.10/dist-packages (from jupyter-server>=1.0->jupyter-server-proxy->pyvista[all]->diffdrr==0.3.8) (0.19.0)\n",
            "Requirement already satisfied: pyzmq>=17 in /usr/local/lib/python3.10/dist-packages (from jupyter-server>=1.0->jupyter-server-proxy->pyvista[all]->diffdrr==0.3.8) (23.2.1)\n",
            "Requirement already satisfied: Send2Trash in /usr/local/lib/python3.10/dist-packages (from jupyter-server>=1.0->jupyter-server-proxy->pyvista[all]->diffdrr==0.3.8) (1.8.2)\n",
            "Requirement already satisfied: terminado>=0.8.3 in /usr/local/lib/python3.10/dist-packages (from jupyter-server>=1.0->jupyter-server-proxy->pyvista[all]->diffdrr==0.3.8) (0.18.0)\n",
            "Requirement already satisfied: websocket-client in /usr/local/lib/python3.10/dist-packages (from jupyter-server>=1.0->jupyter-server-proxy->pyvista[all]->diffdrr==0.3.8) (1.7.0)\n",
            "Requirement already satisfied: param>=1.7.0 in /usr/local/lib/python3.10/dist-packages (from pyct>=0.4.4->colorcet->pyvista[all]->diffdrr==0.3.8) (2.0.1)\n",
            "Requirement already satisfied: notebook>=4.4.1 in /usr/local/lib/python3.10/dist-packages (from widgetsnbextension~=3.6.0->ipywidgets->pyvista[all]->diffdrr==0.3.8) (6.5.5)\n",
            "Requirement already satisfied: attrs>=17.3.0 in /usr/local/lib/python3.10/dist-packages (from aiohttp->jupyter-server-proxy->pyvista[all]->diffdrr==0.3.8) (23.2.0)\n",
            "Requirement already satisfied: multidict<7.0,>=4.5 in /usr/local/lib/python3.10/dist-packages (from aiohttp->jupyter-server-proxy->pyvista[all]->diffdrr==0.3.8) (6.0.4)\n",
            "Requirement already satisfied: yarl<2.0,>=1.0 in /usr/local/lib/python3.10/dist-packages (from aiohttp->jupyter-server-proxy->pyvista[all]->diffdrr==0.3.8) (1.9.4)\n",
            "Requirement already satisfied: frozenlist>=1.1.1 in /usr/local/lib/python3.10/dist-packages (from aiohttp->jupyter-server-proxy->pyvista[all]->diffdrr==0.3.8) (1.4.1)\n",
            "Requirement already satisfied: aiosignal>=1.1.2 in /usr/local/lib/python3.10/dist-packages (from aiohttp->jupyter-server-proxy->pyvista[all]->diffdrr==0.3.8) (1.3.1)\n",
            "Requirement already satisfied: async-timeout<5.0,>=4.0 in /usr/local/lib/python3.10/dist-packages (from aiohttp->jupyter-server-proxy->pyvista[all]->diffdrr==0.3.8) (4.0.3)\n",
            "Requirement already satisfied: markdown-it-py>=2.2.0 in /usr/local/lib/python3.10/dist-packages (from rich->meshio>=5.2->pyvista[all]->diffdrr==0.3.8) (3.0.0)\n",
            "Requirement already satisfied: sniffio>=1.1 in /usr/local/lib/python3.10/dist-packages (from anyio<4,>=3.1.0->jupyter-server>=1.0->jupyter-server-proxy->pyvista[all]->diffdrr==0.3.8) (1.3.0)\n",
            "Requirement already satisfied: exceptiongroup in /usr/local/lib/python3.10/dist-packages (from anyio<4,>=3.1.0->jupyter-server>=1.0->jupyter-server-proxy->pyvista[all]->diffdrr==0.3.8) (1.2.0)\n",
            "Requirement already satisfied: parso<0.9.0,>=0.8.3 in /usr/local/lib/python3.10/dist-packages (from jedi>=0.16->ipython>=4.0.0->ipywidgets->pyvista[all]->diffdrr==0.3.8) (0.8.3)\n",
            "Requirement already satisfied: mdurl~=0.1 in /usr/local/lib/python3.10/dist-packages (from markdown-it-py>=2.2.0->rich->meshio>=5.2->pyvista[all]->diffdrr==0.3.8) (0.1.2)\n",
            "Requirement already satisfied: lxml in /usr/local/lib/python3.10/dist-packages (from nbconvert>=6.4.4->jupyter-server>=1.0->jupyter-server-proxy->pyvista[all]->diffdrr==0.3.8) (4.9.4)\n",
            "Requirement already satisfied: beautifulsoup4 in /usr/local/lib/python3.10/dist-packages (from nbconvert>=6.4.4->jupyter-server>=1.0->jupyter-server-proxy->pyvista[all]->diffdrr==0.3.8) (4.11.2)\n",
            "Requirement already satisfied: bleach in /usr/local/lib/python3.10/dist-packages (from nbconvert>=6.4.4->jupyter-server>=1.0->jupyter-server-proxy->pyvista[all]->diffdrr==0.3.8) (6.1.0)\n",
            "Requirement already satisfied: defusedxml in /usr/local/lib/python3.10/dist-packages (from nbconvert>=6.4.4->jupyter-server>=1.0->jupyter-server-proxy->pyvista[all]->diffdrr==0.3.8) (0.7.1)\n",
            "Requirement already satisfied: entrypoints>=0.2.2 in /usr/local/lib/python3.10/dist-packages (from nbconvert>=6.4.4->jupyter-server>=1.0->jupyter-server-proxy->pyvista[all]->diffdrr==0.3.8) (0.4)\n",
            "Requirement already satisfied: jupyterlab-pygments in /usr/local/lib/python3.10/dist-packages (from nbconvert>=6.4.4->jupyter-server>=1.0->jupyter-server-proxy->pyvista[all]->diffdrr==0.3.8) (0.3.0)\n",
            "Requirement already satisfied: mistune<2,>=0.8.1 in /usr/local/lib/python3.10/dist-packages (from nbconvert>=6.4.4->jupyter-server>=1.0->jupyter-server-proxy->pyvista[all]->diffdrr==0.3.8) (0.8.4)\n",
            "Requirement already satisfied: nbclient>=0.5.0 in /usr/local/lib/python3.10/dist-packages (from nbconvert>=6.4.4->jupyter-server>=1.0->jupyter-server-proxy->pyvista[all]->diffdrr==0.3.8) (0.9.0)\n",
            "Requirement already satisfied: pandocfilters>=1.4.1 in /usr/local/lib/python3.10/dist-packages (from nbconvert>=6.4.4->jupyter-server>=1.0->jupyter-server-proxy->pyvista[all]->diffdrr==0.3.8) (1.5.0)\n",
            "Requirement already satisfied: tinycss2 in /usr/local/lib/python3.10/dist-packages (from nbconvert>=6.4.4->jupyter-server>=1.0->jupyter-server-proxy->pyvista[all]->diffdrr==0.3.8) (1.2.1)\n",
            "Requirement already satisfied: fastjsonschema in /usr/local/lib/python3.10/dist-packages (from nbformat>=5.2.0->jupyter-server>=1.0->jupyter-server-proxy->pyvista[all]->diffdrr==0.3.8) (2.19.1)\n",
            "Requirement already satisfied: jsonschema>=2.6 in /usr/local/lib/python3.10/dist-packages (from nbformat>=5.2.0->jupyter-server>=1.0->jupyter-server-proxy->pyvista[all]->diffdrr==0.3.8) (4.19.2)\n",
            "Requirement already satisfied: nbclassic>=0.4.7 in /usr/local/lib/python3.10/dist-packages (from notebook>=4.4.1->widgetsnbextension~=3.6.0->ipywidgets->pyvista[all]->diffdrr==0.3.8) (1.0.0)\n",
            "Requirement already satisfied: ptyprocess>=0.5 in /usr/local/lib/python3.10/dist-packages (from pexpect>4.3->ipython>=4.0.0->ipywidgets->pyvista[all]->diffdrr==0.3.8) (0.7.0)\n",
            "Requirement already satisfied: wcwidth in /usr/local/lib/python3.10/dist-packages (from prompt-toolkit!=3.0.0,!=3.0.1,<3.1.0,>=2.0.0->ipython>=4.0.0->ipywidgets->pyvista[all]->diffdrr==0.3.8) (0.2.12)\n",
            "Requirement already satisfied: argon2-cffi-bindings in /usr/local/lib/python3.10/dist-packages (from argon2-cffi->jupyter-server>=1.0->jupyter-server-proxy->pyvista[all]->diffdrr==0.3.8) (21.2.0)\n",
            "Requirement already satisfied: jsonschema-specifications>=2023.03.6 in /usr/local/lib/python3.10/dist-packages (from jsonschema>=2.6->nbformat>=5.2.0->jupyter-server>=1.0->jupyter-server-proxy->pyvista[all]->diffdrr==0.3.8) (2023.12.1)\n",
            "Requirement already satisfied: referencing>=0.28.4 in /usr/local/lib/python3.10/dist-packages (from jsonschema>=2.6->nbformat>=5.2.0->jupyter-server>=1.0->jupyter-server-proxy->pyvista[all]->diffdrr==0.3.8) (0.32.1)\n",
            "Requirement already satisfied: rpds-py>=0.7.1 in /usr/local/lib/python3.10/dist-packages (from jsonschema>=2.6->nbformat>=5.2.0->jupyter-server>=1.0->jupyter-server-proxy->pyvista[all]->diffdrr==0.3.8) (0.16.2)\n",
            "Requirement already satisfied: notebook-shim>=0.2.3 in /usr/local/lib/python3.10/dist-packages (from nbclassic>=0.4.7->notebook>=4.4.1->widgetsnbextension~=3.6.0->ipywidgets->pyvista[all]->diffdrr==0.3.8) (0.2.3)\n",
            "Requirement already satisfied: cffi>=1.0.1 in /usr/local/lib/python3.10/dist-packages (from argon2-cffi-bindings->argon2-cffi->jupyter-server>=1.0->jupyter-server-proxy->pyvista[all]->diffdrr==0.3.8) (1.16.0)\n",
            "Requirement already satisfied: soupsieve>1.2 in /usr/local/lib/python3.10/dist-packages (from beautifulsoup4->nbconvert>=6.4.4->jupyter-server>=1.0->jupyter-server-proxy->pyvista[all]->diffdrr==0.3.8) (2.5)\n",
            "Requirement already satisfied: webencodings in /usr/local/lib/python3.10/dist-packages (from bleach->nbconvert>=6.4.4->jupyter-server>=1.0->jupyter-server-proxy->pyvista[all]->diffdrr==0.3.8) (0.5.1)\n",
            "Requirement already satisfied: pycparser in /usr/local/lib/python3.10/dist-packages (from cffi>=1.0.1->argon2-cffi-bindings->argon2-cffi->jupyter-server>=1.0->jupyter-server-proxy->pyvista[all]->diffdrr==0.3.8) (2.21)\n"
          ]
        }
      ],
      "source": [
        "!pip install 'git+https://github.com/BillWorstell/DiffDRR.git'"
      ]
    },
    {
      "cell_type": "code",
      "execution_count": 6,
      "metadata": {
        "id": "SrPFiIZOfIeA"
      },
      "outputs": [],
      "source": [
        "import torch\n",
        "\n",
        "from diffdrr.data import load_example_ct\n",
        "from diffdrr.drr import DRR\n",
        "from diffdrr.visualization import plot_drr"
      ]
    },
    {
      "cell_type": "markdown",
      "metadata": {
        "id": "3LX1gVB9dLo4"
      },
      "source": [
        "Install icecream for debug printing\n",
        "\n",
        "https://github.com/gruns/icecream"
      ]
    },
    {
      "cell_type": "code",
      "execution_count": 7,
      "metadata": {
        "colab": {
          "base_uri": "https://localhost:8080/"
        },
        "id": "6P822NvfdNyx",
        "outputId": "227bc267-800e-4bce-a6a0-b40f5ff712ba"
      },
      "outputs": [
        {
          "output_type": "stream",
          "name": "stdout",
          "text": [
            "Requirement already satisfied: icecream in /usr/local/lib/python3.10/dist-packages (2.1.3)\n",
            "Requirement already satisfied: colorama>=0.3.9 in /usr/local/lib/python3.10/dist-packages (from icecream) (0.4.6)\n",
            "Requirement already satisfied: pygments>=2.2.0 in /usr/local/lib/python3.10/dist-packages (from icecream) (2.16.1)\n",
            "Requirement already satisfied: executing>=0.3.1 in /usr/local/lib/python3.10/dist-packages (from icecream) (2.0.1)\n",
            "Requirement already satisfied: asttokens>=2.0.1 in /usr/local/lib/python3.10/dist-packages (from icecream) (2.4.1)\n",
            "Requirement already satisfied: six>=1.12.0 in /usr/local/lib/python3.10/dist-packages (from asttokens>=2.0.1->icecream) (1.16.0)\n"
          ]
        }
      ],
      "source": [
        "!pip install icecream\n",
        "from icecream import ic"
      ]
    },
    {
      "cell_type": "markdown",
      "metadata": {
        "id": "8U5Xl_6HdQpo"
      },
      "source": [
        "Git clone from github publib open source code to colab working directory\n",
        "\n",
        "See https://stackoverflow.com/questions/50850216/google-colab-install-from-github-glrm"
      ]
    },
    {
      "cell_type": "markdown",
      "metadata": {
        "id": "-m7QvaL-mWYm"
      },
      "source": [
        "Read in the volume and get the isocenter"
      ]
    },
    {
      "cell_type": "code",
      "execution_count": 8,
      "metadata": {
        "colab": {
          "base_uri": "https://localhost:8080/"
        },
        "id": "YtWQdhi2mYTJ",
        "outputId": "396ce0d6-991a-4dd3-d364-0d0e43a13258"
      },
      "outputs": [
        {
          "output_type": "stream",
          "name": "stderr",
          "text": [
            "ic| bx: tensor(180.), by: tensor(180.), bz: tensor(166.2500)\n",
            "ic| volume.shape: (512, 512, 133)\n",
            "ic| spacing: [0.703125, 0.703125, 2.5]\n"
          ]
        },
        {
          "output_type": "execute_result",
          "data": {
            "text/plain": [
              "[0.703125, 0.703125, 2.5]"
            ]
          },
          "metadata": {},
          "execution_count": 8
        }
      ],
      "source": [
        "volume, spacing = load_example_ct()\n",
        "bx, by, bz = torch.tensor(volume.shape) * torch.tensor(spacing) / 2\n",
        "ic(bx, by, bz)\n",
        "ic(volume.shape)\n",
        "ic(spacing)"
      ]
    },
    {
      "cell_type": "markdown",
      "metadata": {
        "id": "tsersgtGm9vv"
      },
      "source": [
        "Sum volume over orthogonal projections\n",
        "\n",
        "SumX = Volumes summed over X (YZ projection\n",
        "\n",
        "SumY = Volumes summed over Y (YZ projection)\n",
        "\n",
        "SumZ = Volumes summed over Z (YZ projection))"
      ]
    },
    {
      "cell_type": "code",
      "execution_count": 9,
      "metadata": {
        "colab": {
          "base_uri": "https://localhost:8080/"
        },
        "id": "l8_35ceJo8z4",
        "outputId": "6197b0d3-4f13-47fb-a79b-a665d5644aad"
      },
      "outputs": [
        {
          "output_type": "stream",
          "name": "stderr",
          "text": [
            "ic| volume.shape: (512, 512, 133)\n",
            "ic| SumX.shape: (512, 133)\n",
            "ic| SumY.shape: (512, 133)\n",
            "ic| SumZ.shape: (512, 512)\n"
          ]
        },
        {
          "output_type": "execute_result",
          "data": {
            "text/plain": [
              "(512, 512)"
            ]
          },
          "metadata": {},
          "execution_count": 9
        }
      ],
      "source": [
        "ic(volume.shape)\n",
        "SumX=volume.sum(0)\n",
        "SumY=volume.sum(1)\n",
        "SumZ=volume.sum(2)\n",
        "ic(SumX.shape)\n",
        "ic(SumY.shape)\n",
        "ic(SumZ.shape)"
      ]
    },
    {
      "cell_type": "markdown",
      "metadata": {
        "id": "5aIRIKxxHZq5"
      },
      "source": [
        "#Get derenzo_phantom version from github"
      ]
    },
    {
      "cell_type": "code",
      "execution_count": 10,
      "metadata": {
        "colab": {
          "base_uri": "https://localhost:8080/"
        },
        "id": "lUOix89GdaPP",
        "outputId": "24e76c62-2963-4da7-e252-d345e1680c42"
      },
      "outputs": [
        {
          "output_type": "stream",
          "name": "stdout",
          "text": [
            "Cloning into 'derenzo_phantom'...\n",
            "remote: Enumerating objects: 111, done.\u001b[K\n",
            "remote: Counting objects: 100% (41/41), done.\u001b[K\n",
            "remote: Compressing objects: 100% (41/41), done.\u001b[K\n",
            "remote: Total 111 (delta 20), reused 0 (delta 0), pack-reused 70\u001b[K\n",
            "Receiving objects: 100% (111/111), 962.58 KiB | 2.77 MiB/s, done.\n",
            "Resolving deltas: 100% (53/53), done.\n"
          ]
        }
      ],
      "source": [
        "!rm /content/derenzo_phantom -rf\n",
        "!git clone https://github.com/Billworstell/derenzo_phantom.git"
      ]
    },
    {
      "cell_type": "markdown",
      "metadata": {
        "id": "BJD11FU2eF6K"
      },
      "source": [
        "look around"
      ]
    },
    {
      "cell_type": "code",
      "execution_count": 11,
      "metadata": {
        "colab": {
          "base_uri": "https://localhost:8080/"
        },
        "id": "00wntSVCeH2v",
        "outputId": "6ca45e53-c352-4ffb-d8e7-78224067562d"
      },
      "outputs": [
        {
          "output_type": "stream",
          "name": "stdout",
          "text": [
            "/content\n",
            "total 8\n",
            "drwxr-xr-x 1 root root 4096 Jan 11 17:02 sample_data\n",
            "drwxr-xr-x 3 root root 4096 Jan 14 20:13 derenzo_phantom\n",
            "total 8\n",
            "drwxr-xr-x 1 root root 4096 Jan 11 17:02 sample_data\n",
            "drwxr-xr-x 3 root root 4096 Jan 14 20:13 derenzo_phantom\n",
            "total 1752\n",
            "-rw-r--r-- 1 root root    303 Jan 14 20:13 README.md\n",
            "-rw-r--r-- 1 root root   4270 Jan 14 20:13 derenzo_log.py\n",
            "-rw-r--r-- 1 root root 888138 Jan 14 20:13 iphantom1.ipynb\n",
            "-rw-r--r-- 1 root root 429523 Jan 14 20:13 iphantom2.ipynb\n",
            "-rw-r--r-- 1 root root 429910 Jan 14 20:13 iphantom3.ipynb\n",
            "-rw-r--r-- 1 root root  31195 Jan 14 20:13 phantom.py\n",
            "-rw-r--r-- 1 root root 4270 Jan 14 20:13 /content/derenzo_phantom/derenzo_log.py\n"
          ]
        }
      ],
      "source": [
        "!pwd\n",
        "!ls -ltr\n",
        "\n",
        "# importing module\n",
        "import sys\n",
        "\n",
        "# printing all directories for\n",
        "# interpreter to search\n",
        "sys.path.append('/content/derenzo_phantom/')\n",
        "\n",
        "!ls -ltr /content\n",
        "!ls -ltr /content/derenzo_phantom/\n",
        "!ls -ltr /content/derenzo_phantom/derenzo_log.py"
      ]
    },
    {
      "cell_type": "markdown",
      "metadata": {
        "id": "CoDSeWuddiwa"
      },
      "source": [
        "import DerenzoPhantom"
      ]
    },
    {
      "cell_type": "code",
      "execution_count": 12,
      "metadata": {
        "id": "rkb7OfPqdnhR"
      },
      "outputs": [],
      "source": [
        "from phantom import DerenzoPhantom"
      ]
    },
    {
      "cell_type": "markdown",
      "metadata": {
        "id": "P9CD_bHBw0tS"
      },
      "source": [
        "Use reference phantom"
      ]
    },
    {
      "cell_type": "code",
      "execution_count": 13,
      "metadata": {
        "id": "57c9TGaMw6tP",
        "colab": {
          "base_uri": "https://localhost:8080/",
          "height": 748
        },
        "outputId": "cf2324ac-c3d6-4f9e-de10-0b17c3c22740"
      },
      "outputs": [
        {
          "output_type": "stream",
          "name": "stderr",
          "text": [
            "ic| SectorMask.sum(): 28818.0\n",
            "ic| self.mask.sum(): 28818.0\n",
            "ic| SectorMask.sum(): 16216.0\n",
            "ic| self.mask.sum(): 45034.0\n",
            "ic| SectorMask.sum(): 11257.0\n",
            "ic| self.mask.sum(): 56291.0\n",
            "ic| SectorMask.sum(): 14414.0\n",
            "ic| self.mask.sum(): 70705.0\n",
            "ic| SectorMask.sum(): 20275.0\n",
            "ic| self.mask.sum(): 90980.0\n",
            "ic| SectorMask.sum(): 16790.0\n",
            "ic| self.mask.sum(): 107770.0\n"
          ]
        },
        {
          "output_type": "display_data",
          "data": {
            "text/plain": [
              "<Figure size 600x600 with 1 Axes>"
            ],
            "image/png": "[encoded data removed]"
          },
          "metadata": {}
        }
      ],
      "source": [
        "radius = 37.0\n",
        "well_seps = (8.0, 6.0, 5.0, 4.0, 3.0, 2.0)\n",
        "test_phantom = DerenzoPhantom(radius, well_seps, )\n",
        "test_phantom.show()"
      ]
    },
    {
      "cell_type": "markdown",
      "metadata": {
        "id": "cnP9-dyQxEI4"
      },
      "source": [
        "Generate Mask for reference phantom"
      ]
    },
    {
      "cell_type": "code",
      "execution_count": 14,
      "metadata": {
        "id": "-kFbGDECxE0D",
        "colab": {
          "base_uri": "https://localhost:8080/",
          "height": 487
        },
        "outputId": "0790e039-76d7-4b91-c002-64a3f3b7ab2c"
      },
      "outputs": [
        {
          "output_type": "stream",
          "name": "stderr",
          "text": [
            "ic| myMask.shape: (1024, 1024)\n",
            "ic| myMask.sum(): 107770.0\n"
          ]
        },
        {
          "output_type": "execute_result",
          "data": {
            "text/plain": [
              "<matplotlib.image.AxesImage at 0x7efcd30dde10>"
            ]
          },
          "metadata": {},
          "execution_count": 14
        },
        {
          "output_type": "display_data",
          "data": {
            "text/plain": [
              "<Figure size 640x480 with 1 Axes>"
            ],
            "image/png": "[encoded data removed]"
          },
          "metadata": {}
        }
      ],
      "source": [
        "myMask=test_phantom.mask.reshape(1024,1024)\n",
        "ic(myMask.shape)\n",
        "ic(myMask.sum())\n",
        "plt.imshow(myMask)"
      ]
    },
    {
      "cell_type": "markdown",
      "metadata": {
        "id": "We9ky2mzxXbh"
      },
      "source": [
        "make meshgrid from volume and spacing"
      ]
    },
    {
      "cell_type": "code",
      "execution_count": 15,
      "metadata": {
        "id": "Ue0amxUaxxWq",
        "colab": {
          "base_uri": "https://localhost:8080/"
        },
        "outputId": "2388391a-122b-4f3b-f5ac-fb5de561ce96"
      },
      "outputs": [
        {
          "output_type": "stream",
          "name": "stderr",
          "text": [
            "ic| bx: tensor(180.), by: tensor(180.), bz: tensor(166.2500)\n",
            "ic| volume.shape: (512, 512, 133)\n",
            "ic| spacing: [0.703125, 0.703125, 2.5]\n"
          ]
        },
        {
          "output_type": "execute_result",
          "data": {
            "text/plain": [
              "[0.703125, 0.703125, 2.5]"
            ]
          },
          "metadata": {},
          "execution_count": 15
        }
      ],
      "source": [
        "volume, spacing = load_example_ct()\n",
        "bx, by, bz = torch.tensor(volume.shape) * torch.tensor(spacing) / 2\n",
        "ic(bx, by, bz)\n",
        "ic(volume.shape)\n",
        "ic(spacing)"
      ]
    },
    {
      "cell_type": "markdown",
      "metadata": {
        "id": "s_Ehsi4I0CeA"
      },
      "source": [
        "Get lab frame coordinates for voxels in volume"
      ]
    },
    {
      "cell_type": "code",
      "execution_count": 16,
      "metadata": {
        "id": "RyeyxrccyFsB"
      },
      "outputs": [],
      "source": [
        "    xlinspace=np.linspace(-256*spacing[0], 256*spacing[0], 512)\n",
        "    ylinspace=np.linspace(-256*spacing[1], 256*spacing[1], 512)\n",
        "    zlinspace=np.linspace(-66.5*spacing[2], 66.5*spacing[2], 133)\n",
        "    xgrid,ygrid,zgrid = np.meshgrid(xlinspace, ylinspace,zlinspace)\n",
        "    xgrid=xgrid.flatten()\n",
        "    ygrid=ygrid.flatten()\n",
        "    zgrid=zgrid.flatten()\n"
      ]
    },
    {
      "cell_type": "markdown",
      "metadata": {
        "id": "NxlQawVeeYzf"
      },
      "source": [
        "Define 3D rotation matrices\n"
      ]
    },
    {
      "cell_type": "code",
      "execution_count": 17,
      "metadata": {
        "id": "E8_kiYcXebvN"
      },
      "outputs": [],
      "source": [
        "# import math for rotation Matrix multiplication\n",
        "import math as m\n",
        "\n",
        "def Rx(theta):\n",
        "  return np.matrix([[ 1, 0           , 0           ],\n",
        "                   [ 0, m.cos(theta),-m.sin(theta)],\n",
        "                   [ 0, m.sin(theta), m.cos(theta)]])\n",
        "\n",
        "def Ry(theta):\n",
        "  return np.matrix([[ m.cos(theta), 0, m.sin(theta)],\n",
        "                   [ 0           , 1, 0           ],\n",
        "                   [-m.sin(theta), 0, m.cos(theta)]])\n",
        "\n",
        "def Rz(theta):\n",
        "  return np.matrix([[ m.cos(theta), -m.sin(theta), 0 ],\n",
        "                   [ m.sin(theta), m.cos(theta) , 0 ],\n",
        "                   [ 0           , 0            , 1 ]])\n",
        "\n"
      ]
    },
    {
      "cell_type": "markdown",
      "source": [
        "#Specify 3D Phantom Geometry\n",
        "\n",
        "with null Rotation=[0,0,0], Translation=[0,0,0]\n",
        "\n",
        "---\n",
        "\n"
      ],
      "metadata": {
        "id": "dSsu9NG4IxVf"
      }
    },
    {
      "cell_type": "code",
      "source": [
        "# NULL TRANSLATION AND NULL ROTATION\n",
        "#\n",
        "#Hard-wire 100mm tall phantom for the moment\n",
        "PhantomHalfZ=50.\n",
        "ic(PhantomHalfZ)\n",
        "#TranslatePhantom=[30.,40.,50.]\n",
        "TranslatePhantom=[0.,0.,0.]\n",
        "ic(TranslatePhantom)\n",
        "\n",
        "# specify Euler angles for establishing Phantom orientation in lab frame\n",
        "psi = 0.\n",
        "#psi=np.pi/4.\n",
        "#phi=np.pi/4.\n",
        "phi=0.0\n",
        "#theta=np.pi/6.\n",
        "theta=0.0\n",
        "\n",
        "RotatePhantom=[phi,theta,psi]\n",
        "ic(RotatePhantom)\n",
        "\n",
        "spacingPhantom=[(2.*radius)/1024.,2.*radius/1024.,2.*PhantomHalfZ]\n",
        "ic(spacingPhantom)"
      ],
      "metadata": {
        "colab": {
          "base_uri": "https://localhost:8080/"
        },
        "id": "Jb0MOmUFI_s4",
        "outputId": "b658c648-8641-4f13-d191-07e449a48299"
      },
      "execution_count": 18,
      "outputs": [
        {
          "output_type": "stream",
          "name": "stderr",
          "text": [
            "ic| PhantomHalfZ: 50.0\n",
            "ic| TranslatePhantom: [0.0, 0.0, 0.0]\n",
            "ic| RotatePhantom: [0.0, 0.0, 0.0]\n",
            "ic| spacingPhantom: [0.072265625, 0.072265625, 100.0]\n"
          ]
        },
        {
          "output_type": "execute_result",
          "data": {
            "text/plain": [
              "[0.072265625, 0.072265625, 100.0]"
            ]
          },
          "metadata": {},
          "execution_count": 18
        }
      ]
    },
    {
      "cell_type": "markdown",
      "source": [
        "Apply Euler rotation inverted and in inverse order to how they are applied to go from lab frame to phantom frame"
      ],
      "metadata": {
        "id": "WzG24KdJQhAH"
      }
    },
    {
      "cell_type": "code",
      "source": [
        "#R = Rz(psi) * Ry(theta) * Rx(phi)\n",
        "R_Invert = Rx(-phi) * Ry(-theta) * Rz(-psi)\n",
        "#R_Invert = Rz(-psi) * Ry(-theta) * Rx(-phi)\n",
        "print(np.round(R_Invert, decimals=2))"
      ],
      "metadata": {
        "colab": {
          "base_uri": "https://localhost:8080/"
        },
        "id": "SKrF11uPQmaS",
        "outputId": "afb2004a-367b-4192-f503-c3c9bcbcc53e"
      },
      "execution_count": 19,
      "outputs": [
        {
          "output_type": "stream",
          "name": "stdout",
          "text": [
            "[[1. 0. 0.]\n",
            " [0. 1. 0.]\n",
            " [0. 0. 1.]]\n"
          ]
        }
      ]
    },
    {
      "cell_type": "code",
      "execution_count": 20,
      "metadata": {
        "id": "DaP4ZmVqecJu",
        "colab": {
          "base_uri": "https://localhost:8080/"
        },
        "outputId": "30f6a181-b1b9-469a-b85c-ec7586110fe5"
      },
      "outputs": [
        {
          "output_type": "stream",
          "name": "stderr",
          "text": [
            "ic| radius: 37.0\n",
            "ic| PhantomHalfZ: 50.0\n",
            "ic| TranslatePhantom: [0.0, 0.0, 0.0]\n",
            "ic| xp1.shape: (34865152,)\n",
            "ic| xp1: array([-180., -180., -180., ...,  180.,  180.,  180.])\n",
            "ic| xp2: matrix([[-180., -180., -180., ...,  180.,  180.,  180.]])\n",
            "ic| xp3: array([-180., -180., -180., ...,  180.,  180.,  180.])\n",
            "ic| xp1.size: 34865152\n",
            "ic| xp1.shape: (34865152,)\n",
            "ic| xp2.shape: (1, 34865152)\n",
            "ic| xp3.shape: (34865152,)\n",
            "ic| ixPh.max(): 3002\n",
            "ic| ixPh.min(): -1979\n",
            "ic| iyPh.max(): 3002\n",
            "ic| iyPh.min(): -1979\n",
            "ic| izPh.max(): 2\n",
            "ic| izPh.min(): -2\n"
          ]
        },
        {
          "output_type": "execute_result",
          "data": {
            "text/plain": [
              "-2"
            ]
          },
          "metadata": {},
          "execution_count": 20
        }
      ],
      "source": [
        "# Transform from lab frame 'grid' to phantom reference frame through a series of transformations\n",
        "#\n",
        "# Invert translation from Lab System origin to Phantom System origin\n",
        "ic(radius)\n",
        "ic(PhantomHalfZ)\n",
        "ic(TranslatePhantom)\n",
        "xp1 = xgrid-TranslatePhantom[0]\n",
        "yp1 = ygrid-TranslatePhantom[1]\n",
        "zp1 = zgrid-TranslatePhantom[2]\n",
        "ic(xp1.shape)\n",
        "\n",
        "v1 = np.array([xp1,yp1,zp1])\n",
        "v2 = R_Invert * v1\n",
        "\n",
        "xp2=v2[0,:]\n",
        "yp2=v2[1,:]\n",
        "zp2=v2[2,:]\n",
        "\n",
        "xp3=np.squeeze(np.asarray(xp2))\n",
        "yp3=np.squeeze(np.asarray(yp2))\n",
        "zp3=np.squeeze(np.asarray(zp2))\n",
        "ic(xp1)\n",
        "ic(xp2)\n",
        "ic(xp3)\n",
        "\n",
        "ic(xp1.size)\n",
        "ic(xp1.shape)\n",
        "ic(xp2.shape)\n",
        "ic(xp3.shape)\n",
        "\n",
        "ixPh=np.floor(((xp3+radius)/spacingPhantom[0])).astype(int)\n",
        "ic(ixPh.max())\n",
        "ic(ixPh.min())\n",
        "iyPh=np.floor(((yp3+radius)/spacingPhantom[1])).astype(int)\n",
        "ic(iyPh.max())\n",
        "ic(iyPh.min())\n",
        "izPh=np.floor(((zp3+PhantomHalfZ)/spacingPhantom[2])).astype(int)\n",
        "ic(izPh.max())\n",
        "ic(izPh.min())"
      ]
    },
    {
      "cell_type": "markdown",
      "metadata": {
        "id": "IiCmwSEaecJu"
      },
      "source": [
        "Insert phantom into source volume"
      ]
    },
    {
      "cell_type": "code",
      "execution_count": 21,
      "metadata": {
        "id": "qYmd9KGkecJu",
        "colab": {
          "base_uri": "https://localhost:8080/"
        },
        "outputId": "a6241608-9df4-4490-9632-b83a07cabbea"
      },
      "outputs": [
        {
          "output_type": "stream",
          "name": "stderr",
          "text": [
            "ic| volumeShape: [512, 512, 133]\n",
            "ic| volume.shape: (34865152,)\n",
            "ic| phantomMask.shape: (1024, 1024)\n",
            "ic| valid.shape: (34865152,)\n",
            "ic| Test.shape: (438204,)\n"
          ]
        }
      ],
      "source": [
        "volumeShape=[512, 512, 133]\n",
        "phantomShape=[1024,1024]\n",
        "ic(volumeShape)\n",
        "volume=np.zeros(volumeShape).flatten()\n",
        "ic(volume.shape)\n",
        "\n",
        "phantomMask=test_phantom.mask.reshape(1024,1024)\n",
        "ic(phantomMask.shape)\n",
        "\n",
        "validX=(ixPh>=0) & (ixPh<phantomShape[0])\n",
        "validY=(iyPh>=0) & (iyPh<phantomShape[1])\n",
        "validZ=(izPh>=0) & (izPh<1)\n",
        "valid=(validX & validY & validZ).flatten().T\n",
        "ic(valid.shape)\n",
        "ixPh2=ixPh[valid]\n",
        "iyPh2=iyPh[valid]\n",
        "Test=volume[valid]\n",
        "ic(Test.shape)\n",
        "volume[valid]=phantomMask[ixPh2,iyPh2]\n",
        "\n",
        "volume=volume.reshape(volumeShape)\n",
        "PVCvolume=np.zeros(volume.shape,dtype=np.float32)\n",
        "PVCvolume[1:511, 1:511, :] += volume[0:510, 0:510, :] / 9.\n",
        "PVCvolume[1:511, 1:511, :] += volume[0:510, 1:511, :] / 9.\n",
        "PVCvolume[1:511, 1:511, :] += volume[0:510, 2:512, :] / 9.\n",
        "PVCvolume[1:511, 1:511, :] += volume[1:511, 0:510, :] / 9.\n",
        "PVCvolume[1:511, 1:511, :] += volume[1:511, 1:511, :] / 9.\n",
        "PVCvolume[1:511, 1:511, :] += volume[1:511, 2:512, :] / 9.\n",
        "PVCvolume[1:511, 1:511, :] += volume[2:512, 0:510, :] / 9.\n",
        "PVCvolume[1:511, 1:511, :] += volume[2:512, 1:511, :] / 9.\n",
        "PVCvolume[1:511, 1:511, :] += volume[2:512, 2:512, :] / 9."
      ]
    },
    {
      "cell_type": "markdown",
      "metadata": {
        "id": "-4ontx6FecJv"
      },
      "source": [
        "Display Phantom projections within volume"
      ]
    },
    {
      "cell_type": "code",
      "execution_count": 22,
      "metadata": {
        "id": "4oYj95x3ecJv",
        "colab": {
          "base_uri": "https://localhost:8080/",
          "height": 298
        },
        "outputId": "3ac387c7-b6a9-46c5-b050-8faeae549ebd"
      },
      "outputs": [
        {
          "output_type": "stream",
          "name": "stderr",
          "text": [
            "ic| PVCvolume.shape: (512, 512, 133)\n",
            "ic| SumX.shape: (512, 133)\n",
            "ic| SumY.shape: (512, 133)\n",
            "ic| SumZ.shape: (512, 512)\n"
          ]
        },
        {
          "output_type": "execute_result",
          "data": {
            "text/plain": [
              "<matplotlib.image.AxesImage at 0x7efcd2fcd6f0>"
            ]
          },
          "metadata": {},
          "execution_count": 22
        },
        {
          "output_type": "display_data",
          "data": {
            "text/plain": [
              "<Figure size 640x480 with 3 Axes>"
            ],
            "image/png": "[encoded data removed]"
          },
          "metadata": {}
        }
      ],
      "source": [
        "ic(PVCvolume.shape)\n",
        "SumX=PVCvolume.sum(0)\n",
        "SumY=PVCvolume.sum(1)\n",
        "SumZ=PVCvolume.sum(2)\n",
        "ic(SumX.shape)\n",
        "ic(SumY.shape)\n",
        "ic(SumZ.shape)\n",
        "\n",
        "plt.subplot(1,3,1)\n",
        "plt.imshow(np.flipud(SumX.T))\n",
        "plt.subplot(1,3,2)\n",
        "plt.imshow(np.flipud(SumY.T))\n",
        "plt.subplot(1,3,3)\n",
        "plt.imshow(np.flipud(SumZ.T))"
      ]
    },
    {
      "cell_type": "markdown",
      "metadata": {
        "id": "N6wya835ecJv"
      },
      "source": [
        "Display axial projection"
      ]
    },
    {
      "cell_type": "code",
      "execution_count": 23,
      "metadata": {
        "id": "OwFYDDGRecJw",
        "colab": {
          "base_uri": "https://localhost:8080/",
          "height": 469
        },
        "outputId": "233fcc53-6307-47d6-cb60-657204294d66"
      },
      "outputs": [
        {
          "output_type": "execute_result",
          "data": {
            "text/plain": [
              "Text(0.5, 1.0, 'T=[0,0,0], R=[0,0,0]')"
            ]
          },
          "metadata": {},
          "execution_count": 23
        },
        {
          "output_type": "display_data",
          "data": {
            "text/plain": [
              "<Figure size 640x480 with 1 Axes>"
            ],
            "image/png": "[encoded data removed]"
          },
          "metadata": {}
        }
      ],
      "source": [
        "plt.imshow(np.flipud(SumZ[192:309,192:309].T))\n",
        "plt.title('T=[0,0,0], R=[0,0,0]')"
      ]
    },
    {
      "cell_type": "markdown",
      "source": [
        "#Insert phantom into source volume, with Rotation=[pi/4,0,0], Translation=[0,0,0]"
      ],
      "metadata": {
        "id": "sYpztE--MT1q"
      }
    },
    {
      "cell_type": "code",
      "source": [
        "# NULL TRANSLATION AND PSI ROTATION ONLY\n",
        "#\n",
        "#Hard-wire 100mm tall phantom for the moment\n",
        "PhantomHalfZ=50.\n",
        "ic(PhantomHalfZ)\n",
        "#TranslatePhantom=[30.,40.,50.]\n",
        "TranslatePhantom=[0.,0.,0.]\n",
        "ic(TranslatePhantom)\n",
        "\n",
        "# specify Euler angles for establishing Phantom orientation in lab frame\n",
        "#psi = 0.\n",
        "psi=np.pi/2.\n",
        "#phi=np.pi/4.\n",
        "phi=0.0\n",
        "#theta=np.pi/6.\n",
        "theta=0.0\n",
        "\n",
        "RotatePhantom=[phi,theta,psi]\n",
        "ic(RotatePhantom)\n",
        "\n",
        "spacingPhantom=[(2.*radius)/1024.,2.*radius/1024.,2.*PhantomHalfZ]\n",
        "ic(spacingPhantom)"
      ],
      "metadata": {
        "colab": {
          "base_uri": "https://localhost:8080/"
        },
        "outputId": "bb9eac16-0e44-4c6a-f871-b1acc2e02289",
        "id": "TCJOwI2xTQRZ"
      },
      "execution_count": 24,
      "outputs": [
        {
          "output_type": "stream",
          "name": "stderr",
          "text": [
            "ic| PhantomHalfZ: 50.0\n",
            "ic| TranslatePhantom: [0.0, 0.0, 0.0]\n",
            "ic| RotatePhantom: [0.0, 0.0, 1.5707963267948966]\n",
            "ic| spacingPhantom: [0.072265625, 0.072265625, 100.0]\n"
          ]
        },
        {
          "output_type": "execute_result",
          "data": {
            "text/plain": [
              "[0.072265625, 0.072265625, 100.0]"
            ]
          },
          "metadata": {},
          "execution_count": 24
        }
      ]
    },
    {
      "cell_type": "markdown",
      "source": [
        "Apply Euler rotation inverted and in inverse order to how they are applied to go from lab frame to phantom frame"
      ],
      "metadata": {
        "id": "XwbGsT56TQRZ"
      }
    },
    {
      "cell_type": "code",
      "source": [
        "#R = Rz(psi) * Ry(theta) * Rx(phi)\n",
        "R_Invert = Rx(-phi) * Ry(-theta) * Rz(-psi)\n",
        "#R_Invert = Rz(-psi) * Ry(-theta) * Rx(-phi)\n",
        "print(np.round(R_Invert, decimals=2))"
      ],
      "metadata": {
        "colab": {
          "base_uri": "https://localhost:8080/"
        },
        "outputId": "3d031a27-8cea-4112-ef23-06f7df33a868",
        "id": "BFPxpqhMTQRZ"
      },
      "execution_count": 25,
      "outputs": [
        {
          "output_type": "stream",
          "name": "stdout",
          "text": [
            "[[ 0.  1.  0.]\n",
            " [-1.  0.  0.]\n",
            " [ 0.  0.  1.]]\n"
          ]
        }
      ]
    },
    {
      "cell_type": "code",
      "execution_count": 26,
      "metadata": {
        "colab": {
          "base_uri": "https://localhost:8080/"
        },
        "outputId": "b6411eb0-2d99-41cb-d8d8-abaaed8d17ed",
        "id": "OedWgP5-TQRa"
      },
      "outputs": [
        {
          "output_type": "stream",
          "name": "stderr",
          "text": [
            "ic| radius: 37.0\n",
            "ic| PhantomHalfZ: 50.0\n",
            "ic| TranslatePhantom: [0.0, 0.0, 0.0]\n",
            "ic| xp1.shape: (34865152,)\n",
            "ic| xp1: array([-180., -180., -180., ...,  180.,  180.,  180.])\n",
            "ic| xp2: matrix([[-180., -180., -180., ...,  180.,  180.,  180.]])\n",
            "ic| xp3: array([-180., -180., -180., ...,  180.,  180.,  180.])\n",
            "ic| xp1.size: 34865152\n",
            "ic| xp1.shape: (34865152,)\n",
            "ic| xp2.shape: (1, 34865152)\n",
            "ic| xp3.shape: (34865152,)\n",
            "ic| ixPh.max(): 3002\n",
            "ic| ixPh.min(): -1979\n",
            "ic| iyPh.max(): 3002\n",
            "ic| iyPh.min(): -1979\n",
            "ic| izPh.max(): 2\n",
            "ic| izPh.min(): -2\n"
          ]
        },
        {
          "output_type": "execute_result",
          "data": {
            "text/plain": [
              "-2"
            ]
          },
          "metadata": {},
          "execution_count": 26
        }
      ],
      "source": [
        "# Transform from lab frame 'grid' to phantom reference frame through a series of transformations\n",
        "#\n",
        "# Invert translation from Lab System origin to Phantom System origin\n",
        "ic(radius)\n",
        "ic(PhantomHalfZ)\n",
        "ic(TranslatePhantom)\n",
        "xp1 = xgrid-TranslatePhantom[0]\n",
        "yp1 = ygrid-TranslatePhantom[1]\n",
        "zp1 = zgrid-TranslatePhantom[2]\n",
        "ic(xp1.shape)\n",
        "\n",
        "v1 = np.array([xp1,yp1,zp1])\n",
        "v2 = R_Invert * v1\n",
        "\n",
        "xp2=v2[0,:]\n",
        "yp2=v2[1,:]\n",
        "zp2=v2[2,:]\n",
        "\n",
        "xp3=np.squeeze(np.asarray(xp2))\n",
        "yp3=np.squeeze(np.asarray(yp2))\n",
        "zp3=np.squeeze(np.asarray(zp2))\n",
        "ic(xp1)\n",
        "ic(xp2)\n",
        "ic(xp3)\n",
        "\n",
        "ic(xp1.size)\n",
        "ic(xp1.shape)\n",
        "ic(xp2.shape)\n",
        "ic(xp3.shape)\n",
        "\n",
        "ixPh=np.floor(((xp3+radius)/spacingPhantom[0])).astype(int)\n",
        "ic(ixPh.max())\n",
        "ic(ixPh.min())\n",
        "iyPh=np.floor(((yp3+radius)/spacingPhantom[1])).astype(int)\n",
        "ic(iyPh.max())\n",
        "ic(iyPh.min())\n",
        "izPh=np.floor(((zp3+PhantomHalfZ)/spacingPhantom[2])).astype(int)\n",
        "ic(izPh.max())\n",
        "ic(izPh.min())"
      ]
    },
    {
      "cell_type": "markdown",
      "metadata": {
        "id": "vh9faxCITQRa"
      },
      "source": [
        "Insert phantom into source volume"
      ]
    },
    {
      "cell_type": "code",
      "execution_count": 27,
      "metadata": {
        "colab": {
          "base_uri": "https://localhost:8080/"
        },
        "outputId": "644bc763-6955-40bd-a251-57ee976ad664",
        "id": "2ON1iWd9TQRa"
      },
      "outputs": [
        {
          "output_type": "stream",
          "name": "stderr",
          "text": [
            "ic| volumeShape: [512, 512, 133]\n",
            "ic| volume.shape: (34865152,)\n",
            "ic| phantomMask.shape: (1024, 1024)\n",
            "ic| valid.shape: (34865152,)\n",
            "ic| Test.shape: (438204,)\n"
          ]
        }
      ],
      "source": [
        "volumeShape=[512, 512, 133]\n",
        "phantomShape=[1024,1024]\n",
        "ic(volumeShape)\n",
        "volume=np.zeros(volumeShape).flatten()\n",
        "ic(volume.shape)\n",
        "\n",
        "phantomMask=test_phantom.mask.reshape(1024,1024)\n",
        "ic(phantomMask.shape)\n",
        "\n",
        "validX=(ixPh>=0) & (ixPh<phantomShape[0])\n",
        "validY=(iyPh>=0) & (iyPh<phantomShape[1])\n",
        "validZ=(izPh>=0) & (izPh<1)\n",
        "valid=(validX & validY & validZ).flatten().T\n",
        "ic(valid.shape)\n",
        "ixPh2=ixPh[valid]\n",
        "iyPh2=iyPh[valid]\n",
        "Test=volume[valid]\n",
        "ic(Test.shape)\n",
        "volume[valid]=phantomMask[ixPh2,iyPh2]\n",
        "\n",
        "volume=volume.reshape(volumeShape)\n",
        "PVCvolume=np.zeros(volume.shape,dtype=np.float32)\n",
        "PVCvolume[1:511, 1:511, :] += volume[0:510, 0:510, :] / 9.\n",
        "PVCvolume[1:511, 1:511, :] += volume[0:510, 1:511, :] / 9.\n",
        "PVCvolume[1:511, 1:511, :] += volume[0:510, 2:512, :] / 9.\n",
        "PVCvolume[1:511, 1:511, :] += volume[1:511, 0:510, :] / 9.\n",
        "PVCvolume[1:511, 1:511, :] += volume[1:511, 1:511, :] / 9.\n",
        "PVCvolume[1:511, 1:511, :] += volume[1:511, 2:512, :] / 9.\n",
        "PVCvolume[1:511, 1:511, :] += volume[2:512, 0:510, :] / 9.\n",
        "PVCvolume[1:511, 1:511, :] += volume[2:512, 1:511, :] / 9.\n",
        "PVCvolume[1:511, 1:511, :] += volume[2:512, 2:512, :] / 9."
      ]
    },
    {
      "cell_type": "markdown",
      "metadata": {
        "id": "pcQziEPFTQRa"
      },
      "source": [
        "Display Phantom projections within volume"
      ]
    },
    {
      "cell_type": "code",
      "execution_count": 28,
      "metadata": {
        "colab": {
          "base_uri": "https://localhost:8080/",
          "height": 298
        },
        "outputId": "29e00936-97e9-40f2-dd5e-70b4580d2a85",
        "id": "Sv17IKPeTQRa"
      },
      "outputs": [
        {
          "output_type": "stream",
          "name": "stderr",
          "text": [
            "ic| PVCvolume.shape: (512, 512, 133)\n",
            "ic| SumX.shape: (512, 133)\n",
            "ic| SumY.shape: (512, 133)\n",
            "ic| SumZ.shape: (512, 512)\n"
          ]
        },
        {
          "output_type": "execute_result",
          "data": {
            "text/plain": [
              "<matplotlib.image.AxesImage at 0x7efcd2e2d2a0>"
            ]
          },
          "metadata": {},
          "execution_count": 28
        },
        {
          "output_type": "display_data",
          "data": {
            "text/plain": [
              "<Figure size 640x480 with 3 Axes>"
            ],
            "image/png": "[encoded data removed]"
          },
          "metadata": {}
        }
      ],
      "source": [
        "ic(PVCvolume.shape)\n",
        "SumX=PVCvolume.sum(0)\n",
        "SumY=PVCvolume.sum(1)\n",
        "SumZ=PVCvolume.sum(2)\n",
        "ic(SumX.shape)\n",
        "ic(SumY.shape)\n",
        "ic(SumZ.shape)\n",
        "\n",
        "plt.subplot(1,3,1)\n",
        "plt.imshow(np.flipud(SumX.T))\n",
        "plt.subplot(1,3,2)\n",
        "plt.imshow(np.flipud(SumY.T))\n",
        "plt.subplot(1,3,3)\n",
        "plt.imshow(np.flipud(SumZ.T))"
      ]
    },
    {
      "cell_type": "markdown",
      "source": [
        "Display axial projection"
      ],
      "metadata": {
        "id": "IpDDrBTBUNnQ"
      }
    },
    {
      "cell_type": "code",
      "source": [
        "plt.imshow(np.flipud(SumZ[192:309,192:309].T))\n",
        "plt.title('T=[0,0,0], R=[pi/2,0,0]')"
      ],
      "metadata": {
        "colab": {
          "base_uri": "https://localhost:8080/",
          "height": 469
        },
        "id": "onkbbwKGUQvn",
        "outputId": "4791193f-4162-4560-ba45-18baacee3bfb"
      },
      "execution_count": 29,
      "outputs": [
        {
          "output_type": "execute_result",
          "data": {
            "text/plain": [
              "Text(0.5, 1.0, 'T=[0,0,0], R=[pi/2,0,0]')"
            ]
          },
          "metadata": {},
          "execution_count": 29
        },
        {
          "output_type": "display_data",
          "data": {
            "text/plain": [
              "<Figure size 640x480 with 1 Axes>"
            ],
            "image/png": "[encoded data removed]"
          },
          "metadata": {}
        }
      ]
    },
    {
      "cell_type": "markdown",
      "source": [
        "#Insert phantom into source volume, with Rotation=[0.,5*(pi/180),0], Translation=[0,0,0]"
      ],
      "metadata": {
        "id": "TrfzUX0CWITB"
      }
    },
    {
      "cell_type": "code",
      "source": [
        "# NULL TRANSLATION AND THETA ROTATION ONLY\n",
        "#\n",
        "#Hard-wire 100mm tall phantom for the moment\n",
        "PhantomHalfZ=50.\n",
        "ic(PhantomHalfZ)\n",
        "#TranslatePhantom=[30.,40.,50.]\n",
        "TranslatePhantom=[0.,0.,0.]\n",
        "ic(TranslatePhantom)\n",
        "\n",
        "# specify Euler angles for establishing Phantom orientation in lab frame\n",
        "psi = 0.\n",
        "#psi=np.pi/2.\n",
        "phi=0.0\n",
        "#phi=np.pi/6.\n",
        "#theta=0.\n",
        "theta=np.pi*(5./180.)\n",
        "\n",
        "\n",
        "RotatePhantom=[phi,theta,psi]\n",
        "ic(RotatePhantom)\n",
        "\n",
        "spacingPhantom=[(2.*radius)/1024.,2.*radius/1024.,2.*PhantomHalfZ]\n",
        "ic(spacingPhantom)"
      ],
      "metadata": {
        "colab": {
          "base_uri": "https://localhost:8080/"
        },
        "outputId": "c9577b7d-fba2-41f9-e8e0-88c48a8254f6",
        "id": "-OzffxrHWITM"
      },
      "execution_count": 30,
      "outputs": [
        {
          "output_type": "stream",
          "name": "stderr",
          "text": [
            "ic| PhantomHalfZ: 50.0\n",
            "ic| TranslatePhantom: [0.0, 0.0, 0.0]\n",
            "ic| RotatePhantom: [0.0, 0.08726646259971647, 0.0]\n",
            "ic| spacingPhantom: [0.072265625, 0.072265625, 100.0]\n"
          ]
        },
        {
          "output_type": "execute_result",
          "data": {
            "text/plain": [
              "[0.072265625, 0.072265625, 100.0]"
            ]
          },
          "metadata": {},
          "execution_count": 30
        }
      ]
    },
    {
      "cell_type": "markdown",
      "source": [
        "Apply Euler rotation inverted and in inverse order to how they are applied to go from lab frame to phantom frame"
      ],
      "metadata": {
        "id": "IrQZSV9sWITN"
      }
    },
    {
      "cell_type": "code",
      "source": [
        "#R = Rz(psi) * Ry(theta) * Rx(phi)\n",
        "R_Invert = Rx(-phi) * Ry(-theta) * Rz(-psi)\n",
        "#R_Invert = Rz(-psi) * Ry(-theta) * Rx(-phi)\n",
        "print(np.round(R_Invert, decimals=2))"
      ],
      "metadata": {
        "colab": {
          "base_uri": "https://localhost:8080/"
        },
        "outputId": "96bdef14-9c48-4761-eacc-e11f35372624",
        "id": "iQ_LDO2qWITN"
      },
      "execution_count": 31,
      "outputs": [
        {
          "output_type": "stream",
          "name": "stdout",
          "text": [
            "[[ 1.    0.   -0.09]\n",
            " [ 0.    1.    0.  ]\n",
            " [ 0.09  0.    1.  ]]\n"
          ]
        }
      ]
    },
    {
      "cell_type": "code",
      "execution_count": 32,
      "metadata": {
        "colab": {
          "base_uri": "https://localhost:8080/"
        },
        "outputId": "cb24b3d1-f42e-420a-8098-2d6491a9862a",
        "id": "XoMu3-9aWITN"
      },
      "outputs": [
        {
          "output_type": "stream",
          "name": "stderr",
          "text": [
            "ic| radius: 37.0\n",
            "ic| PhantomHalfZ: 50.0\n",
            "ic| TranslatePhantom: [0.0, 0.0, 0.0]\n",
            "ic| xp1.shape: (34865152,)\n",
            "ic| xp1: array([-180., -180., -180., ...,  180.,  180.,  180.])\n",
            "ic| xp2: matrix([[-164.82540342, -165.04494346, -165.26448349, ...,  165.26448349,\n",
            "                   165.04494346,  164.82540342]])\n",
            "ic| xp3: array([-164.82540342, -165.04494346, -165.26448349, ...,  165.26448349,\n",
            "                 165.04494346,  164.82540342])\n",
            "ic| xp1.size: 34865152\n",
            "ic| xp1.shape: (34865152,)\n",
            "ic| xp2.shape: (1, 34865152)\n",
            "ic| xp3.shape: (34865152,)\n",
            "ic| ixPh.max(): 3193\n",
            "ic| ixPh.min(): -2170\n",
            "ic| iyPh.max(): 3002\n",
            "ic| iyPh.min(): -1979\n",
            "ic| izPh.max(): 2\n",
            "ic| izPh.min(): -2\n"
          ]
        },
        {
          "output_type": "execute_result",
          "data": {
            "text/plain": [
              "-2"
            ]
          },
          "metadata": {},
          "execution_count": 32
        }
      ],
      "source": [
        "# Transform from lab frame 'grid' to phantom reference frame through a series of transformations\n",
        "#\n",
        "# Invert translation from Lab System origin to Phantom System origin\n",
        "ic(radius)\n",
        "ic(PhantomHalfZ)\n",
        "ic(TranslatePhantom)\n",
        "xp1 = xgrid-TranslatePhantom[0]\n",
        "yp1 = ygrid-TranslatePhantom[1]\n",
        "zp1 = zgrid-TranslatePhantom[2]\n",
        "ic(xp1.shape)\n",
        "\n",
        "v1 = np.array([xp1,yp1,zp1])\n",
        "v2 = R_Invert * v1\n",
        "\n",
        "xp2=v2[0,:]\n",
        "yp2=v2[1,:]\n",
        "zp2=v2[2,:]\n",
        "\n",
        "xp3=np.squeeze(np.asarray(xp2))\n",
        "yp3=np.squeeze(np.asarray(yp2))\n",
        "zp3=np.squeeze(np.asarray(zp2))\n",
        "ic(xp1)\n",
        "ic(xp2)\n",
        "ic(xp3)\n",
        "\n",
        "ic(xp1.size)\n",
        "ic(xp1.shape)\n",
        "ic(xp2.shape)\n",
        "ic(xp3.shape)\n",
        "\n",
        "ixPh=np.floor(((xp3+radius)/spacingPhantom[0])).astype(int)\n",
        "ic(ixPh.max())\n",
        "ic(ixPh.min())\n",
        "iyPh=np.floor(((yp3+radius)/spacingPhantom[1])).astype(int)\n",
        "ic(iyPh.max())\n",
        "ic(iyPh.min())\n",
        "izPh=np.floor(((zp3+PhantomHalfZ)/spacingPhantom[2])).astype(int)\n",
        "ic(izPh.max())\n",
        "ic(izPh.min())"
      ]
    },
    {
      "cell_type": "markdown",
      "metadata": {
        "id": "9yq5b6Q4WITN"
      },
      "source": [
        "Insert phantom into source volume"
      ]
    },
    {
      "cell_type": "code",
      "execution_count": 33,
      "metadata": {
        "colab": {
          "base_uri": "https://localhost:8080/"
        },
        "outputId": "f6245b87-c5d7-4183-b551-7175229527cc",
        "id": "dgRf7vZ3WITN"
      },
      "outputs": [
        {
          "output_type": "stream",
          "name": "stderr",
          "text": [
            "ic| volumeShape: [512, 512, 133]\n",
            "ic| volume.shape: (34865152,)\n",
            "ic| phantomMask.shape: (1024, 1024)\n",
            "ic| valid.shape: (34865152,)\n",
            "ic| Test.shape: (440960,)\n"
          ]
        }
      ],
      "source": [
        "volumeShape=[512, 512, 133]\n",
        "phantomShape=[1024,1024]\n",
        "ic(volumeShape)\n",
        "volume=np.zeros(volumeShape).flatten()\n",
        "ic(volume.shape)\n",
        "\n",
        "phantomMask=test_phantom.mask.reshape(1024,1024)\n",
        "ic(phantomMask.shape)\n",
        "\n",
        "validX=(ixPh>=0) & (ixPh<phantomShape[0])\n",
        "validY=(iyPh>=0) & (iyPh<phantomShape[1])\n",
        "validZ=(izPh>=0) & (izPh<1)\n",
        "valid=(validX & validY & validZ).flatten().T\n",
        "ic(valid.shape)\n",
        "ixPh2=ixPh[valid]\n",
        "iyPh2=iyPh[valid]\n",
        "Test=volume[valid]\n",
        "ic(Test.shape)\n",
        "volume[valid]=phantomMask[ixPh2,iyPh2]\n",
        "\n",
        "volume=volume.reshape(volumeShape)\n",
        "PVCvolume=np.zeros(volume.shape,dtype=np.float32)\n",
        "PVCvolume[1:511, 1:511, :] += volume[0:510, 0:510, :] / 9.\n",
        "PVCvolume[1:511, 1:511, :] += volume[0:510, 1:511, :] / 9.\n",
        "PVCvolume[1:511, 1:511, :] += volume[0:510, 2:512, :] / 9.\n",
        "PVCvolume[1:511, 1:511, :] += volume[1:511, 0:510, :] / 9.\n",
        "PVCvolume[1:511, 1:511, :] += volume[1:511, 1:511, :] / 9.\n",
        "PVCvolume[1:511, 1:511, :] += volume[1:511, 2:512, :] / 9.\n",
        "PVCvolume[1:511, 1:511, :] += volume[2:512, 0:510, :] / 9.\n",
        "PVCvolume[1:511, 1:511, :] += volume[2:512, 1:511, :] / 9.\n",
        "PVCvolume[1:511, 1:511, :] += volume[2:512, 2:512, :] / 9."
      ]
    },
    {
      "cell_type": "markdown",
      "metadata": {
        "id": "E8YKtU8uWITO"
      },
      "source": [
        "Display Phantom projections within volume"
      ]
    },
    {
      "cell_type": "code",
      "execution_count": 34,
      "metadata": {
        "colab": {
          "base_uri": "https://localhost:8080/",
          "height": 298
        },
        "outputId": "61d7d02f-1ffa-46b4-b2ac-1d88ceac4a65",
        "id": "Q7ipUKloWITO"
      },
      "outputs": [
        {
          "output_type": "stream",
          "name": "stderr",
          "text": [
            "ic| PVCvolume.shape: (512, 512, 133)\n",
            "ic| SumX.shape: (512, 133)\n",
            "ic| SumY.shape: (512, 133)\n",
            "ic| SumZ.shape: (512, 512)\n"
          ]
        },
        {
          "output_type": "execute_result",
          "data": {
            "text/plain": [
              "<matplotlib.image.AxesImage at 0x7efccc9abb20>"
            ]
          },
          "metadata": {},
          "execution_count": 34
        },
        {
          "output_type": "display_data",
          "data": {
            "text/plain": [
              "<Figure size 640x480 with 3 Axes>"
            ],
            "image/png": "[encoded data removed]"
          },
          "metadata": {}
        }
      ],
      "source": [
        "ic(PVCvolume.shape)\n",
        "SumX=PVCvolume.sum(0)\n",
        "SumY=PVCvolume.sum(1)\n",
        "SumZ=PVCvolume.sum(2)\n",
        "ic(SumX.shape)\n",
        "ic(SumY.shape)\n",
        "ic(SumZ.shape)\n",
        "\n",
        "plt.subplot(1,3,1)\n",
        "plt.imshow(np.flipud(SumX.T))\n",
        "plt.subplot(1,3,2)\n",
        "plt.imshow(np.flipud(SumY.T))\n",
        "plt.subplot(1,3,3)\n",
        "plt.imshow(np.flipud(SumZ.T))"
      ]
    },
    {
      "cell_type": "markdown",
      "source": [
        "Display axial projection"
      ],
      "metadata": {
        "id": "6L2R1_ixWITO"
      }
    },
    {
      "cell_type": "code",
      "source": [
        "plt.imshow(np.flipud(SumZ[192:309,192:309].T))\n",
        "plt.title('T=[0,0,0], R=[0.,5*(pi;180),0]')"
      ],
      "metadata": {
        "colab": {
          "base_uri": "https://localhost:8080/",
          "height": 469
        },
        "outputId": "fd02f78b-a03d-4148-fb5a-91da8beee3f3",
        "id": "qky8bPoVWITO"
      },
      "execution_count": 35,
      "outputs": [
        {
          "output_type": "execute_result",
          "data": {
            "text/plain": [
              "Text(0.5, 1.0, 'T=[0,0,0], R=[0.,5*(pi;180),0]')"
            ]
          },
          "metadata": {},
          "execution_count": 35
        },
        {
          "output_type": "display_data",
          "data": {
            "text/plain": [
              "<Figure size 640x480 with 1 Axes>"
            ],
            "image/png": "[encoded data removed]"
          },
          "metadata": {}
        }
      ]
    },
    {
      "cell_type": "markdown",
      "source": [
        "#Insert phantom into source volume, with Rotation=[0.,0.,3*(pi/180)], Translation=[0,0,0]"
      ],
      "metadata": {
        "id": "67spn9E5cJYS"
      }
    },
    {
      "cell_type": "code",
      "source": [
        "# NULL TRANSLATION AND PHI ROTATION ONLY\n",
        "#\n",
        "#Hard-wire 100mm tall phantom for the moment\n",
        "PhantomHalfZ=50.\n",
        "ic(PhantomHalfZ)\n",
        "#TranslatePhantom=[30.,40.,50.]\n",
        "TranslatePhantom=[0.,0.,0.]\n",
        "ic(TranslatePhantom)\n",
        "\n",
        "# specify Euler angles for establishing Phantom orientation in lab frame\n",
        "psi = 0.\n",
        "#psi=np.pi/2.\n",
        "theta=0.\n",
        "#theta=np.pi*(5./180.)\n",
        "#phi=0.0\n",
        "phi=np.pi*(3./180.)\n",
        "\n",
        "\n",
        "\n",
        "RotatePhantom=[phi,theta,psi]\n",
        "ic(RotatePhantom)\n",
        "\n",
        "spacingPhantom=[(2.*radius)/1024.,2.*radius/1024.,2.*PhantomHalfZ]\n",
        "ic(spacingPhantom)"
      ],
      "metadata": {
        "colab": {
          "base_uri": "https://localhost:8080/"
        },
        "outputId": "2f46e6c3-23b2-4ead-a6d4-c6e12cad10d4",
        "id": "ugugfspMcJYo"
      },
      "execution_count": 36,
      "outputs": [
        {
          "output_type": "stream",
          "name": "stderr",
          "text": [
            "ic| PhantomHalfZ: 50.0\n",
            "ic| TranslatePhantom: [0.0, 0.0, 0.0]\n",
            "ic| RotatePhantom: [0.05235987755982988, 0.0, 0.0]\n",
            "ic| spacingPhantom: [0.072265625, 0.072265625, 100.0]\n"
          ]
        },
        {
          "output_type": "execute_result",
          "data": {
            "text/plain": [
              "[0.072265625, 0.072265625, 100.0]"
            ]
          },
          "metadata": {},
          "execution_count": 36
        }
      ]
    },
    {
      "cell_type": "markdown",
      "source": [
        "Apply Euler rotation inverted and in inverse order to how they are applied to go from lab frame to phantom frame"
      ],
      "metadata": {
        "id": "olGme11LcJYp"
      }
    },
    {
      "cell_type": "code",
      "source": [
        "#R = Rz(psi) * Ry(theta) * Rx(phi)\n",
        "R_Invert = Rx(-phi) * Ry(-theta) * Rz(-psi)\n",
        "#R_Invert = Rz(-psi) * Ry(-theta) * Rx(-phi)\n",
        "print(np.round(R_Invert, decimals=2))"
      ],
      "metadata": {
        "colab": {
          "base_uri": "https://localhost:8080/"
        },
        "outputId": "c71798c7-0ce0-4b88-d889-256a64279727",
        "id": "YBwgFOWJcJYp"
      },
      "execution_count": 37,
      "outputs": [
        {
          "output_type": "stream",
          "name": "stdout",
          "text": [
            "[[ 1.    0.    0.  ]\n",
            " [ 0.    1.    0.05]\n",
            " [ 0.   -0.05  1.  ]]\n"
          ]
        }
      ]
    },
    {
      "cell_type": "code",
      "execution_count": 38,
      "metadata": {
        "colab": {
          "base_uri": "https://localhost:8080/"
        },
        "outputId": "aa72056e-3976-4c1d-c43c-3a6463b8794c",
        "id": "TlFxFPIFcJYq"
      },
      "outputs": [
        {
          "output_type": "stream",
          "name": "stderr",
          "text": [
            "ic| radius: 37.0\n",
            "ic| PhantomHalfZ: 50.0\n",
            "ic| TranslatePhantom: [0.0, 0.0, 0.0]\n",
            "ic| xp1.shape: (34865152,)\n",
            "ic| xp1: array([-180., -180., -180., ...,  180.,  180.,  180.])\n",
            "ic| xp2: matrix([[-180., -180., -180., ...,  180.,  180.,  180.]])\n",
            "ic| xp3: array([-180., -180., -180., ...,  180.,  180.,  180.])\n",
            "ic| xp1.size: 34865152\n",
            "ic| xp1.shape: (34865152,)\n",
            "ic| xp2.shape: (1, 34865152)\n",
            "ic| xp3.shape: (34865152,)\n",
            "ic| ixPh.max(): 3002\n",
            "ic| ixPh.min(): -1979\n",
            "ic| iyPh.max(): 3119\n",
            "ic| iyPh.min(): -2096\n",
            "ic| izPh.max(): 2\n",
            "ic| izPh.min(): -2\n"
          ]
        },
        {
          "output_type": "execute_result",
          "data": {
            "text/plain": [
              "-2"
            ]
          },
          "metadata": {},
          "execution_count": 38
        }
      ],
      "source": [
        "# Transform from lab frame 'grid' to phantom reference frame through a series of transformations\n",
        "#\n",
        "# Invert translation from Lab System origin to Phantom System origin\n",
        "ic(radius)\n",
        "ic(PhantomHalfZ)\n",
        "ic(TranslatePhantom)\n",
        "xp1 = xgrid-TranslatePhantom[0]\n",
        "yp1 = ygrid-TranslatePhantom[1]\n",
        "zp1 = zgrid-TranslatePhantom[2]\n",
        "ic(xp1.shape)\n",
        "\n",
        "v1 = np.array([xp1,yp1,zp1])\n",
        "v2 = R_Invert * v1\n",
        "\n",
        "xp2=v2[0,:]\n",
        "yp2=v2[1,:]\n",
        "zp2=v2[2,:]\n",
        "\n",
        "xp3=np.squeeze(np.asarray(xp2))\n",
        "yp3=np.squeeze(np.asarray(yp2))\n",
        "zp3=np.squeeze(np.asarray(zp2))\n",
        "ic(xp1)\n",
        "ic(xp2)\n",
        "ic(xp3)\n",
        "\n",
        "ic(xp1.size)\n",
        "ic(xp1.shape)\n",
        "ic(xp2.shape)\n",
        "ic(xp3.shape)\n",
        "\n",
        "ixPh=np.floor(((xp3+radius)/spacingPhantom[0])).astype(int)\n",
        "ic(ixPh.max())\n",
        "ic(ixPh.min())\n",
        "iyPh=np.floor(((yp3+radius)/spacingPhantom[1])).astype(int)\n",
        "ic(iyPh.max())\n",
        "ic(iyPh.min())\n",
        "izPh=np.floor(((zp3+PhantomHalfZ)/spacingPhantom[2])).astype(int)\n",
        "ic(izPh.max())\n",
        "ic(izPh.min())"
      ]
    },
    {
      "cell_type": "markdown",
      "metadata": {
        "id": "_cCvstSpcJYq"
      },
      "source": [
        "Insert phantom into source volume"
      ]
    },
    {
      "cell_type": "code",
      "execution_count": 39,
      "metadata": {
        "colab": {
          "base_uri": "https://localhost:8080/"
        },
        "outputId": "ae9115bf-b1bc-433d-d33e-83557ab344bc",
        "id": "QjUGG0ABcJYq"
      },
      "outputs": [
        {
          "output_type": "stream",
          "name": "stderr",
          "text": [
            "ic| volumeShape: [512, 512, 133]\n",
            "ic| volume.shape: (34865152,)\n",
            "ic| phantomMask.shape: (1024, 1024)\n",
            "ic| valid.shape: (34865152,)\n",
            "ic| Test.shape: (443504,)\n"
          ]
        }
      ],
      "source": [
        "volumeShape=[512, 512, 133]\n",
        "phantomShape=[1024,1024]\n",
        "ic(volumeShape)\n",
        "volume=np.zeros(volumeShape).flatten()\n",
        "ic(volume.shape)\n",
        "\n",
        "phantomMask=test_phantom.mask.reshape(1024,1024)\n",
        "ic(phantomMask.shape)\n",
        "\n",
        "validX=(ixPh>=0) & (ixPh<phantomShape[0])\n",
        "validY=(iyPh>=0) & (iyPh<phantomShape[1])\n",
        "validZ=(izPh>=0) & (izPh<1)\n",
        "valid=(validX & validY & validZ).flatten().T\n",
        "ic(valid.shape)\n",
        "ixPh2=ixPh[valid]\n",
        "iyPh2=iyPh[valid]\n",
        "Test=volume[valid]\n",
        "ic(Test.shape)\n",
        "volume[valid]=phantomMask[ixPh2,iyPh2]\n",
        "\n",
        "volume=volume.reshape(volumeShape)\n",
        "PVCvolume=np.zeros(volume.shape,dtype=np.float32)\n",
        "PVCvolume[1:511, 1:511, :] += volume[0:510, 0:510, :] / 9.\n",
        "PVCvolume[1:511, 1:511, :] += volume[0:510, 1:511, :] / 9.\n",
        "PVCvolume[1:511, 1:511, :] += volume[0:510, 2:512, :] / 9.\n",
        "PVCvolume[1:511, 1:511, :] += volume[1:511, 0:510, :] / 9.\n",
        "PVCvolume[1:511, 1:511, :] += volume[1:511, 1:511, :] / 9.\n",
        "PVCvolume[1:511, 1:511, :] += volume[1:511, 2:512, :] / 9.\n",
        "PVCvolume[1:511, 1:511, :] += volume[2:512, 0:510, :] / 9.\n",
        "PVCvolume[1:511, 1:511, :] += volume[2:512, 1:511, :] / 9.\n",
        "PVCvolume[1:511, 1:511, :] += volume[2:512, 2:512, :] / 9."
      ]
    },
    {
      "cell_type": "markdown",
      "metadata": {
        "id": "XA653_jkcJYr"
      },
      "source": [
        "Display Phantom projections within volume"
      ]
    },
    {
      "cell_type": "code",
      "execution_count": 40,
      "metadata": {
        "colab": {
          "base_uri": "https://localhost:8080/",
          "height": 298
        },
        "outputId": "e8cd3eb5-73e5-4eaa-f7ce-21a9136ed5a3",
        "id": "Ex4udpAecJYr"
      },
      "outputs": [
        {
          "output_type": "stream",
          "name": "stderr",
          "text": [
            "ic| PVCvolume.shape: (512, 512, 133)\n",
            "ic| SumX.shape: (512, 133)\n",
            "ic| SumY.shape: (512, 133)\n",
            "ic| SumZ.shape: (512, 512)\n"
          ]
        },
        {
          "output_type": "execute_result",
          "data": {
            "text/plain": [
              "<matplotlib.image.AxesImage at 0x7efccea99cc0>"
            ]
          },
          "metadata": {},
          "execution_count": 40
        },
        {
          "output_type": "display_data",
          "data": {
            "text/plain": [
              "<Figure size 640x480 with 3 Axes>"
            ],
            "image/png": "[encoded data removed]"
          },
          "metadata": {}
        }
      ],
      "source": [
        "ic(PVCvolume.shape)\n",
        "SumX=PVCvolume.sum(0)\n",
        "SumY=PVCvolume.sum(1)\n",
        "SumZ=PVCvolume.sum(2)\n",
        "ic(SumX.shape)\n",
        "ic(SumY.shape)\n",
        "ic(SumZ.shape)\n",
        "\n",
        "plt.subplot(1,3,1)\n",
        "plt.imshow(np.flipud(SumX.T))\n",
        "plt.subplot(1,3,2)\n",
        "plt.imshow(np.flipud(SumY.T))\n",
        "plt.subplot(1,3,3)\n",
        "plt.imshow(np.flipud(SumZ.T))"
      ]
    },
    {
      "cell_type": "markdown",
      "source": [
        "Display axial projection"
      ],
      "metadata": {
        "id": "R1td-28ecJYr"
      }
    },
    {
      "cell_type": "code",
      "source": [
        "plt.imshow(np.flipud(SumZ[192:309,192:309].T))\n",
        "plt.title('T=[0,0,0], R=[0.,0.,3*(pi;180)]')"
      ],
      "metadata": {
        "colab": {
          "base_uri": "https://localhost:8080/",
          "height": 469
        },
        "outputId": "061ba397-afd9-4156-b489-e064e8b6ef81",
        "id": "1iCz_wihcJYs"
      },
      "execution_count": 41,
      "outputs": [
        {
          "output_type": "execute_result",
          "data": {
            "text/plain": [
              "Text(0.5, 1.0, 'T=[0,0,0], R=[0.,0.,3*(pi;180)]')"
            ]
          },
          "metadata": {},
          "execution_count": 41
        },
        {
          "output_type": "display_data",
          "data": {
            "text/plain": [
              "<Figure size 640x480 with 1 Axes>"
            ],
            "image/png": "[encoded data removed]"
          },
          "metadata": {}
        }
      ]
    },
    {
      "cell_type": "markdown",
      "source": [
        "#Insert phantom into source volume, with Rotation=[py/2,0.,3*(pi/180)], Translation=[0,0,0]"
      ],
      "metadata": {
        "id": "LAx7evnRgmej"
      }
    },
    {
      "cell_type": "code",
      "source": [
        "# NULL TRANSLATION WITH PSI FOLLOWED BY PHI ROTATION\n",
        "#\n",
        "#Hard-wire 100mm tall phantom for the moment\n",
        "PhantomHalfZ=50.\n",
        "ic(PhantomHalfZ)\n",
        "#TranslatePhantom=[30.,40.,50.]\n",
        "TranslatePhantom=[0.,0.,0.]\n",
        "ic(TranslatePhantom)\n",
        "\n",
        "# specify Euler angles for establishing Phantom orientation in lab frame\n",
        "#psi = 0.\n",
        "psi=np.pi/2.\n",
        "theta=0.\n",
        "#theta=np.pi*(5./180.)\n",
        "#phi=0.0\n",
        "phi=np.pi*(3./180.)\n",
        "\n",
        "\n",
        "\n",
        "RotatePhantom=[phi,theta,psi]\n",
        "ic(RotatePhantom)\n",
        "\n",
        "spacingPhantom=[(2.*radius)/1024.,2.*radius/1024.,2.*PhantomHalfZ]\n",
        "ic(spacingPhantom)"
      ],
      "metadata": {
        "colab": {
          "base_uri": "https://localhost:8080/"
        },
        "outputId": "8d76b4c9-6dc8-4e19-bc25-f5c844ac7e23",
        "id": "pWOL78L8gme6"
      },
      "execution_count": 42,
      "outputs": [
        {
          "output_type": "stream",
          "name": "stderr",
          "text": [
            "ic| PhantomHalfZ: 50.0\n",
            "ic| TranslatePhantom: [0.0, 0.0, 0.0]\n",
            "ic| RotatePhantom: [0.05235987755982988, 0.0, 1.5707963267948966]\n",
            "ic| spacingPhantom: [0.072265625, 0.072265625, 100.0]\n"
          ]
        },
        {
          "output_type": "execute_result",
          "data": {
            "text/plain": [
              "[0.072265625, 0.072265625, 100.0]"
            ]
          },
          "metadata": {},
          "execution_count": 42
        }
      ]
    },
    {
      "cell_type": "markdown",
      "source": [
        "Apply Euler rotation inverted and in inverse order to how they are applied to go from lab frame to phantom frame"
      ],
      "metadata": {
        "id": "wG9fndeVgme7"
      }
    },
    {
      "cell_type": "code",
      "source": [
        "#R = Rz(psi) * Ry(theta) * Rx(phi)\n",
        "R_Invert = Rx(-phi) * Ry(-theta) * Rz(-psi)\n",
        "#R_Invert = Rz(-psi) * Ry(-theta) * Rx(-phi)\n",
        "print(np.round(R_Invert, decimals=2))"
      ],
      "metadata": {
        "colab": {
          "base_uri": "https://localhost:8080/"
        },
        "outputId": "45b072a7-52c2-4809-a4a9-def3726a2b92",
        "id": "kxs9mG5Pgme7"
      },
      "execution_count": 43,
      "outputs": [
        {
          "output_type": "stream",
          "name": "stdout",
          "text": [
            "[[ 0.    1.    0.  ]\n",
            " [-1.    0.    0.05]\n",
            " [ 0.05 -0.    1.  ]]\n"
          ]
        }
      ]
    },
    {
      "cell_type": "code",
      "execution_count": 44,
      "metadata": {
        "colab": {
          "base_uri": "https://localhost:8080/"
        },
        "outputId": "7624835c-0523-477a-fcc7-fd64e2c10028",
        "id": "6W33zN67gme7"
      },
      "outputs": [
        {
          "output_type": "stream",
          "name": "stderr",
          "text": [
            "ic| radius: 37.0\n",
            "ic| PhantomHalfZ: 50.0\n",
            "ic| TranslatePhantom: [0.0, 0.0, 0.0]\n",
            "ic| xp1.shape: (34865152,)\n",
            "ic| xp1: array([-180., -180., -180., ...,  180.,  180.,  180.])\n",
            "ic| xp2: matrix([[-180., -180., -180., ...,  180.,  180.,  180.]])\n",
            "ic| xp3: array([-180., -180., -180., ...,  180.,  180.,  180.])\n",
            "ic| xp1.size: 34865152\n",
            "ic| xp1.shape: (34865152,)\n",
            "ic| xp2.shape: (1, 34865152)\n",
            "ic| xp3.shape: (34865152,)\n",
            "ic| ixPh.max(): 3002\n",
            "ic| ixPh.min(): -1979\n",
            "ic| iyPh.max(): 3119\n",
            "ic| iyPh.min(): -2096\n",
            "ic| izPh.max(): 2\n",
            "ic| izPh.min(): -2\n"
          ]
        },
        {
          "output_type": "execute_result",
          "data": {
            "text/plain": [
              "-2"
            ]
          },
          "metadata": {},
          "execution_count": 44
        }
      ],
      "source": [
        "# Transform from lab frame 'grid' to phantom reference frame through a series of transformations\n",
        "#\n",
        "# Invert translation from Lab System origin to Phantom System origin\n",
        "ic(radius)\n",
        "ic(PhantomHalfZ)\n",
        "ic(TranslatePhantom)\n",
        "xp1 = xgrid-TranslatePhantom[0]\n",
        "yp1 = ygrid-TranslatePhantom[1]\n",
        "zp1 = zgrid-TranslatePhantom[2]\n",
        "ic(xp1.shape)\n",
        "\n",
        "v1 = np.array([xp1,yp1,zp1])\n",
        "v2 = R_Invert * v1\n",
        "\n",
        "xp2=v2[0,:]\n",
        "yp2=v2[1,:]\n",
        "zp2=v2[2,:]\n",
        "\n",
        "xp3=np.squeeze(np.asarray(xp2))\n",
        "yp3=np.squeeze(np.asarray(yp2))\n",
        "zp3=np.squeeze(np.asarray(zp2))\n",
        "ic(xp1)\n",
        "ic(xp2)\n",
        "ic(xp3)\n",
        "\n",
        "ic(xp1.size)\n",
        "ic(xp1.shape)\n",
        "ic(xp2.shape)\n",
        "ic(xp3.shape)\n",
        "\n",
        "ixPh=np.floor(((xp3+radius)/spacingPhantom[0])).astype(int)\n",
        "ic(ixPh.max())\n",
        "ic(ixPh.min())\n",
        "iyPh=np.floor(((yp3+radius)/spacingPhantom[1])).astype(int)\n",
        "ic(iyPh.max())\n",
        "ic(iyPh.min())\n",
        "izPh=np.floor(((zp3+PhantomHalfZ)/spacingPhantom[2])).astype(int)\n",
        "ic(izPh.max())\n",
        "ic(izPh.min())"
      ]
    },
    {
      "cell_type": "markdown",
      "metadata": {
        "id": "8-FvV7MRgme8"
      },
      "source": [
        "Insert phantom into source volume"
      ]
    },
    {
      "cell_type": "code",
      "execution_count": 45,
      "metadata": {
        "colab": {
          "base_uri": "https://localhost:8080/"
        },
        "outputId": "706d0f5c-6272-4c75-b587-4df043264025",
        "id": "j9MPMAgUgme8"
      },
      "outputs": [
        {
          "output_type": "stream",
          "name": "stderr",
          "text": [
            "ic| volumeShape: [512, 512, 133]\n",
            "ic| volume.shape: (34865152,)\n",
            "ic| phantomMask.shape: (1024, 1024)\n",
            "ic| valid.shape: (34865152,)\n",
            "ic| Test.shape: (443504,)\n"
          ]
        }
      ],
      "source": [
        "volumeShape=[512, 512, 133]\n",
        "phantomShape=[1024,1024]\n",
        "ic(volumeShape)\n",
        "volume=np.zeros(volumeShape).flatten()\n",
        "ic(volume.shape)\n",
        "\n",
        "phantomMask=test_phantom.mask.reshape(1024,1024)\n",
        "ic(phantomMask.shape)\n",
        "\n",
        "validX=(ixPh>=0) & (ixPh<phantomShape[0])\n",
        "validY=(iyPh>=0) & (iyPh<phantomShape[1])\n",
        "validZ=(izPh>=0) & (izPh<1)\n",
        "valid=(validX & validY & validZ).flatten().T\n",
        "ic(valid.shape)\n",
        "ixPh2=ixPh[valid]\n",
        "iyPh2=iyPh[valid]\n",
        "Test=volume[valid]\n",
        "ic(Test.shape)\n",
        "volume[valid]=phantomMask[ixPh2,iyPh2]\n",
        "\n",
        "volume=volume.reshape(volumeShape)\n",
        "PVCvolume=np.zeros(volume.shape,dtype=np.float32)\n",
        "PVCvolume[1:511, 1:511, :] += volume[0:510, 0:510, :] / 9.\n",
        "PVCvolume[1:511, 1:511, :] += volume[0:510, 1:511, :] / 9.\n",
        "PVCvolume[1:511, 1:511, :] += volume[0:510, 2:512, :] / 9.\n",
        "PVCvolume[1:511, 1:511, :] += volume[1:511, 0:510, :] / 9.\n",
        "PVCvolume[1:511, 1:511, :] += volume[1:511, 1:511, :] / 9.\n",
        "PVCvolume[1:511, 1:511, :] += volume[1:511, 2:512, :] / 9.\n",
        "PVCvolume[1:511, 1:511, :] += volume[2:512, 0:510, :] / 9.\n",
        "PVCvolume[1:511, 1:511, :] += volume[2:512, 1:511, :] / 9.\n",
        "PVCvolume[1:511, 1:511, :] += volume[2:512, 2:512, :] / 9."
      ]
    },
    {
      "cell_type": "markdown",
      "metadata": {
        "id": "-3cIGvbTgme9"
      },
      "source": [
        "Display Phantom projections within volume"
      ]
    },
    {
      "cell_type": "code",
      "execution_count": 46,
      "metadata": {
        "colab": {
          "base_uri": "https://localhost:8080/",
          "height": 298
        },
        "outputId": "79789961-b98b-45dd-87e5-49f3340777cd",
        "id": "fo7aU4tQgme9"
      },
      "outputs": [
        {
          "output_type": "stream",
          "name": "stderr",
          "text": [
            "ic| PVCvolume.shape: (512, 512, 133)\n",
            "ic| SumX.shape: (512, 133)\n",
            "ic| SumY.shape: (512, 133)\n",
            "ic| SumZ.shape: (512, 512)\n"
          ]
        },
        {
          "output_type": "execute_result",
          "data": {
            "text/plain": [
              "<matplotlib.image.AxesImage at 0x7efcce8c0c10>"
            ]
          },
          "metadata": {},
          "execution_count": 46
        },
        {
          "output_type": "display_data",
          "data": {
            "text/plain": [
              "<Figure size 640x480 with 3 Axes>"
            ],
            "image/png": "[encoded data removed]"
          },
          "metadata": {}
        }
      ],
      "source": [
        "ic(PVCvolume.shape)\n",
        "SumX=PVCvolume.sum(0)\n",
        "SumY=PVCvolume.sum(1)\n",
        "SumZ=PVCvolume.sum(2)\n",
        "ic(SumX.shape)\n",
        "ic(SumY.shape)\n",
        "ic(SumZ.shape)\n",
        "\n",
        "plt.subplot(1,3,1)\n",
        "plt.imshow(np.flipud(SumX.T))\n",
        "plt.subplot(1,3,2)\n",
        "plt.imshow(np.flipud(SumY.T))\n",
        "plt.subplot(1,3,3)\n",
        "plt.imshow(np.flipud(SumZ.T))"
      ]
    },
    {
      "cell_type": "markdown",
      "source": [
        "Display axial projection"
      ],
      "metadata": {
        "id": "jSlPc52sgme9"
      }
    },
    {
      "cell_type": "code",
      "source": [
        "plt.imshow(np.flipud(SumZ[192:309,192:309].T))\n",
        "plt.title('T=[0,0,0], R=[pi/2.,0.,3*(pi;180)]')"
      ],
      "metadata": {
        "colab": {
          "base_uri": "https://localhost:8080/",
          "height": 469
        },
        "outputId": "ccbb1952-e1ef-46c2-c689-3bddae7ac89b",
        "id": "tQE1B32Igme-"
      },
      "execution_count": 47,
      "outputs": [
        {
          "output_type": "execute_result",
          "data": {
            "text/plain": [
              "Text(0.5, 1.0, 'T=[0,0,0], R=[pi/2.,0.,3*(pi;180)]')"
            ]
          },
          "metadata": {},
          "execution_count": 47
        },
        {
          "output_type": "display_data",
          "data": {
            "text/plain": [
              "<Figure size 640x480 with 1 Axes>"
            ],
            "image/png": "[encoded data removed]"
          },
          "metadata": {}
        }
      ]
    },
    {
      "cell_type": "markdown",
      "source": [
        "#Insert phantom into source volume, with Rotation=[py/2,0.,3*(pi/180)], Translation=[0,0,0]"
      ],
      "metadata": {
        "id": "rFIGJK1OjR0N"
      }
    },
    {
      "cell_type": "code",
      "source": [
        "# NULL TRANSLATION WITH PSI FOLLOWED BY PHI ROTATION\n",
        "#\n",
        "#Hard-wire 100mm tall phantom for the moment\n",
        "PhantomHalfZ=50.\n",
        "ic(PhantomHalfZ)\n",
        "#TranslatePhantom=[30.,40.,50.]\n",
        "TranslatePhantom=[0.,0.,0.]\n",
        "ic(TranslatePhantom)\n",
        "\n",
        "# specify Euler angles for establishing Phantom orientation in lab frame\n",
        "#psi = 0.\n",
        "psi=np.pi/2.\n",
        "theta=0.\n",
        "#theta=np.pi*(5./180.)\n",
        "#phi=0.0\n",
        "phi=np.pi*(3./180.)\n",
        "\n",
        "\n",
        "\n",
        "RotatePhantom=[phi,theta,psi]\n",
        "ic(RotatePhantom)\n",
        "\n",
        "spacingPhantom=[(2.*radius)/1024.,2.*radius/1024.,2.*PhantomHalfZ]\n",
        "ic(spacingPhantom)"
      ],
      "metadata": {
        "colab": {
          "base_uri": "https://localhost:8080/"
        },
        "outputId": "b22849aa-a568-4e34-ca3f-3b00fbb284d2",
        "id": "tURHDGT3jR0X"
      },
      "execution_count": 48,
      "outputs": [
        {
          "output_type": "stream",
          "name": "stderr",
          "text": [
            "ic| PhantomHalfZ: 50.0\n",
            "ic| TranslatePhantom: [0.0, 0.0, 0.0]\n",
            "ic| RotatePhantom: [0.05235987755982988, 0.0, 1.5707963267948966]\n",
            "ic| spacingPhantom: [0.072265625, 0.072265625, 100.0]\n"
          ]
        },
        {
          "output_type": "execute_result",
          "data": {
            "text/plain": [
              "[0.072265625, 0.072265625, 100.0]"
            ]
          },
          "metadata": {},
          "execution_count": 48
        }
      ]
    },
    {
      "cell_type": "markdown",
      "source": [
        "Apply Euler rotation inverted and in inverse order to how they are applied to go from lab frame to phantom frame"
      ],
      "metadata": {
        "id": "XBfn_24YjR0X"
      }
    },
    {
      "cell_type": "code",
      "source": [
        "#R = Rz(psi) * Ry(theta) * Rx(phi)\n",
        "R_Invert = Rx(-phi) * Ry(-theta) * Rz(-psi)\n",
        "#R_Invert = Rz(-psi) * Ry(-theta) * Rx(-phi)\n",
        "print(np.round(R_Invert, decimals=2))"
      ],
      "metadata": {
        "colab": {
          "base_uri": "https://localhost:8080/"
        },
        "outputId": "feab4afb-6f3f-494a-b15e-3a667c2d2a5d",
        "id": "MPWRi0KRjR0Y"
      },
      "execution_count": 49,
      "outputs": [
        {
          "output_type": "stream",
          "name": "stdout",
          "text": [
            "[[ 0.    1.    0.  ]\n",
            " [-1.    0.    0.05]\n",
            " [ 0.05 -0.    1.  ]]\n"
          ]
        }
      ]
    },
    {
      "cell_type": "code",
      "execution_count": 50,
      "metadata": {
        "colab": {
          "base_uri": "https://localhost:8080/"
        },
        "outputId": "52d0818f-8af7-4ebc-e66e-493cf25b0257",
        "id": "eGbMC0-bjR0Y"
      },
      "outputs": [
        {
          "output_type": "stream",
          "name": "stderr",
          "text": [
            "ic| radius: 37.0\n",
            "ic| PhantomHalfZ: 50.0\n",
            "ic| TranslatePhantom: [0.0, 0.0, 0.0]\n",
            "ic| xp1.shape: (34865152,)\n",
            "ic| xp1: array([-180., -180., -180., ...,  180.,  180.,  180.])\n",
            "ic| xp2: matrix([[-180., -180., -180., ...,  180.,  180.,  180.]])\n",
            "ic| xp3: array([-180., -180., -180., ...,  180.,  180.,  180.])\n",
            "ic| xp1.size: 34865152\n",
            "ic| xp1.shape: (34865152,)\n",
            "ic| xp2.shape: (1, 34865152)\n",
            "ic| xp3.shape: (34865152,)\n",
            "ic| ixPh.max(): 3002\n",
            "ic| ixPh.min(): -1979\n",
            "ic| iyPh.max(): 3119\n",
            "ic| iyPh.min(): -2096\n",
            "ic| izPh.max(): 2\n",
            "ic| izPh.min(): -2\n"
          ]
        },
        {
          "output_type": "execute_result",
          "data": {
            "text/plain": [
              "-2"
            ]
          },
          "metadata": {},
          "execution_count": 50
        }
      ],
      "source": [
        "# Transform from lab frame 'grid' to phantom reference frame through a series of transformations\n",
        "#\n",
        "# Invert translation from Lab System origin to Phantom System origin\n",
        "ic(radius)\n",
        "ic(PhantomHalfZ)\n",
        "ic(TranslatePhantom)\n",
        "xp1 = xgrid-TranslatePhantom[0]\n",
        "yp1 = ygrid-TranslatePhantom[1]\n",
        "zp1 = zgrid-TranslatePhantom[2]\n",
        "ic(xp1.shape)\n",
        "\n",
        "v1 = np.array([xp1,yp1,zp1])\n",
        "v2 = R_Invert * v1\n",
        "\n",
        "xp2=v2[0,:]\n",
        "yp2=v2[1,:]\n",
        "zp2=v2[2,:]\n",
        "\n",
        "xp3=np.squeeze(np.asarray(xp2))\n",
        "yp3=np.squeeze(np.asarray(yp2))\n",
        "zp3=np.squeeze(np.asarray(zp2))\n",
        "ic(xp1)\n",
        "ic(xp2)\n",
        "ic(xp3)\n",
        "\n",
        "ic(xp1.size)\n",
        "ic(xp1.shape)\n",
        "ic(xp2.shape)\n",
        "ic(xp3.shape)\n",
        "\n",
        "ixPh=np.floor(((xp3+radius)/spacingPhantom[0])).astype(int)\n",
        "ic(ixPh.max())\n",
        "ic(ixPh.min())\n",
        "iyPh=np.floor(((yp3+radius)/spacingPhantom[1])).astype(int)\n",
        "ic(iyPh.max())\n",
        "ic(iyPh.min())\n",
        "izPh=np.floor(((zp3+PhantomHalfZ)/spacingPhantom[2])).astype(int)\n",
        "ic(izPh.max())\n",
        "ic(izPh.min())"
      ]
    },
    {
      "cell_type": "markdown",
      "metadata": {
        "id": "p6ufv07YjR0Y"
      },
      "source": [
        "Insert phantom into source volume"
      ]
    },
    {
      "cell_type": "code",
      "execution_count": 51,
      "metadata": {
        "colab": {
          "base_uri": "https://localhost:8080/"
        },
        "outputId": "e0cf9537-1aac-4f79-d70b-4a73ed46852b",
        "id": "leSLruSXjR0Y"
      },
      "outputs": [
        {
          "output_type": "stream",
          "name": "stderr",
          "text": [
            "ic| volumeShape: [512, 512, 133]\n",
            "ic| volume.shape: (34865152,)\n",
            "ic| phantomMask.shape: (1024, 1024)\n",
            "ic| valid.shape: (34865152,)\n",
            "ic| Test.shape: (443504,)\n"
          ]
        }
      ],
      "source": [
        "volumeShape=[512, 512, 133]\n",
        "phantomShape=[1024,1024]\n",
        "ic(volumeShape)\n",
        "volume=np.zeros(volumeShape).flatten()\n",
        "ic(volume.shape)\n",
        "\n",
        "phantomMask=test_phantom.mask.reshape(1024,1024)\n",
        "ic(phantomMask.shape)\n",
        "\n",
        "validX=(ixPh>=0) & (ixPh<phantomShape[0])\n",
        "validY=(iyPh>=0) & (iyPh<phantomShape[1])\n",
        "validZ=(izPh>=0) & (izPh<1)\n",
        "valid=(validX & validY & validZ).flatten().T\n",
        "ic(valid.shape)\n",
        "ixPh2=ixPh[valid]\n",
        "iyPh2=iyPh[valid]\n",
        "Test=volume[valid]\n",
        "ic(Test.shape)\n",
        "volume[valid]=phantomMask[ixPh2,iyPh2]\n",
        "\n",
        "volume=volume.reshape(volumeShape)\n",
        "PVCvolume=np.zeros(volume.shape,dtype=np.float32)\n",
        "PVCvolume[1:511, 1:511, :] += volume[0:510, 0:510, :] / 9.\n",
        "PVCvolume[1:511, 1:511, :] += volume[0:510, 1:511, :] / 9.\n",
        "PVCvolume[1:511, 1:511, :] += volume[0:510, 2:512, :] / 9.\n",
        "PVCvolume[1:511, 1:511, :] += volume[1:511, 0:510, :] / 9.\n",
        "PVCvolume[1:511, 1:511, :] += volume[1:511, 1:511, :] / 9.\n",
        "PVCvolume[1:511, 1:511, :] += volume[1:511, 2:512, :] / 9.\n",
        "PVCvolume[1:511, 1:511, :] += volume[2:512, 0:510, :] / 9.\n",
        "PVCvolume[1:511, 1:511, :] += volume[2:512, 1:511, :] / 9.\n",
        "PVCvolume[1:511, 1:511, :] += volume[2:512, 2:512, :] / 9."
      ]
    },
    {
      "cell_type": "markdown",
      "metadata": {
        "id": "oPW6O0ApjR0Y"
      },
      "source": [
        "Display Phantom projections within volume"
      ]
    },
    {
      "cell_type": "code",
      "execution_count": 52,
      "metadata": {
        "colab": {
          "base_uri": "https://localhost:8080/",
          "height": 298
        },
        "outputId": "2817b936-2144-4da9-e67c-4525cfcaead9",
        "id": "VFukRSmbjR0Z"
      },
      "outputs": [
        {
          "output_type": "stream",
          "name": "stderr",
          "text": [
            "ic| PVCvolume.shape: (512, 512, 133)\n",
            "ic| SumX.shape: (512, 133)\n",
            "ic| SumY.shape: (512, 133)\n",
            "ic| SumZ.shape: (512, 512)\n"
          ]
        },
        {
          "output_type": "execute_result",
          "data": {
            "text/plain": [
              "<matplotlib.image.AxesImage at 0x7efcd2e387f0>"
            ]
          },
          "metadata": {},
          "execution_count": 52
        },
        {
          "output_type": "display_data",
          "data": {
            "text/plain": [
              "<Figure size 640x480 with 3 Axes>"
            ],
            "image/png": "[encoded data removed]"
          },
          "metadata": {}
        }
      ],
      "source": [
        "ic(PVCvolume.shape)\n",
        "SumX=PVCvolume.sum(0)\n",
        "SumY=PVCvolume.sum(1)\n",
        "SumZ=PVCvolume.sum(2)\n",
        "ic(SumX.shape)\n",
        "ic(SumY.shape)\n",
        "ic(SumZ.shape)\n",
        "\n",
        "plt.subplot(1,3,1)\n",
        "plt.imshow(np.flipud(SumX.T))\n",
        "plt.subplot(1,3,2)\n",
        "plt.imshow(np.flipud(SumY.T))\n",
        "plt.subplot(1,3,3)\n",
        "plt.imshow(np.flipud(SumZ.T))"
      ]
    },
    {
      "cell_type": "markdown",
      "source": [
        "Display axial projection"
      ],
      "metadata": {
        "id": "2ak8q4VYjR0Z"
      }
    },
    {
      "cell_type": "code",
      "source": [
        "plt.imshow(np.flipud(SumZ[192:309,192:309].T))\n",
        "plt.title('T=[0,0,0], R=[pi/2.,0.,3*(pi;180)]')"
      ],
      "metadata": {
        "colab": {
          "base_uri": "https://localhost:8080/",
          "height": 469
        },
        "outputId": "4fd30aeb-f4df-416e-ccf1-71cad5abb331",
        "id": "on8iBRnojR0Z"
      },
      "execution_count": 53,
      "outputs": [
        {
          "output_type": "execute_result",
          "data": {
            "text/plain": [
              "Text(0.5, 1.0, 'T=[0,0,0], R=[pi/2.,0.,3*(pi;180)]')"
            ]
          },
          "metadata": {},
          "execution_count": 53
        },
        {
          "output_type": "display_data",
          "data": {
            "text/plain": [
              "<Figure size 640x480 with 1 Axes>"
            ],
            "image/png": "[encoded data removed]"
          },
          "metadata": {}
        }
      ]
    },
    {
      "cell_type": "markdown",
      "source": [
        "#Insert phantom into source volume, with Rotation=[py/2,5*(pi/180,0)], Translation=[0,0,0]"
      ],
      "metadata": {
        "id": "pCyFDYzSjR77"
      }
    },
    {
      "cell_type": "code",
      "source": [
        "# NULL TRANSLATION AND PSI FOLLOWED BY THETA ROTATION\n",
        "#\n",
        "#Hard-wire 100mm tall phantom for the moment\n",
        "PhantomHalfZ=50.\n",
        "ic(PhantomHalfZ)\n",
        "#TranslatePhantom=[30.,40.,50.]\n",
        "TranslatePhantom=[0.,0.,0.]\n",
        "ic(TranslatePhantom)\n",
        "\n",
        "# specify Euler angles for establishing Phantom orientation in lab frame\n",
        "#psi = 0.\n",
        "psi=np.pi/2.\n",
        "#theta=0.\n",
        "theta=np.pi*(5./180.)\n",
        "phi=0.0\n",
        "#phi=np.pi*(3./180.)\n",
        "\n",
        "\n",
        "\n",
        "RotatePhantom=[phi,theta,psi]\n",
        "ic(RotatePhantom)\n",
        "\n",
        "spacingPhantom=[(2.*radius)/1024.,2.*radius/1024.,2.*PhantomHalfZ]\n",
        "ic(spacingPhantom)"
      ],
      "metadata": {
        "colab": {
          "base_uri": "https://localhost:8080/"
        },
        "outputId": "39ebeed7-f2fb-47e0-ca7d-fa6c6f0efbc1",
        "id": "R4boTRgmjR77"
      },
      "execution_count": 54,
      "outputs": [
        {
          "output_type": "stream",
          "name": "stderr",
          "text": [
            "ic| PhantomHalfZ: 50.0\n",
            "ic| TranslatePhantom: [0.0, 0.0, 0.0]\n",
            "ic| RotatePhantom: [0.0, 0.08726646259971647, 1.5707963267948966]\n",
            "ic| spacingPhantom: [0.072265625, 0.072265625, 100.0]\n"
          ]
        },
        {
          "output_type": "execute_result",
          "data": {
            "text/plain": [
              "[0.072265625, 0.072265625, 100.0]"
            ]
          },
          "metadata": {},
          "execution_count": 54
        }
      ]
    },
    {
      "cell_type": "markdown",
      "source": [
        "Apply Euler rotation inverted and in inverse order to how they are applied to go from lab frame to phantom frame"
      ],
      "metadata": {
        "id": "MxaPdkRPjR78"
      }
    },
    {
      "cell_type": "code",
      "source": [
        "#R = Rz(psi) * Ry(theta) * Rx(phi)\n",
        "R_Invert = Rx(-phi) * Ry(-theta) * Rz(-psi)\n",
        "#R_Invert = Rz(-psi) * Ry(-theta) * Rx(-phi)\n",
        "print(np.round(R_Invert, decimals=2))"
      ],
      "metadata": {
        "colab": {
          "base_uri": "https://localhost:8080/"
        },
        "outputId": "37df117a-311e-4f8a-dd97-1ec93532e837",
        "id": "R0v4LucojR78"
      },
      "execution_count": 55,
      "outputs": [
        {
          "output_type": "stream",
          "name": "stdout",
          "text": [
            "[[ 0.    1.   -0.09]\n",
            " [-1.    0.    0.  ]\n",
            " [ 0.    0.09  1.  ]]\n"
          ]
        }
      ]
    },
    {
      "cell_type": "code",
      "execution_count": 56,
      "metadata": {
        "colab": {
          "base_uri": "https://localhost:8080/"
        },
        "outputId": "043cdf53-6a21-426a-a0c9-e850a859358d",
        "id": "dvGUGt64jR78"
      },
      "outputs": [
        {
          "output_type": "stream",
          "name": "stderr",
          "text": [
            "ic| radius: 37.0\n",
            "ic| PhantomHalfZ: 50.0\n",
            "ic| TranslatePhantom: [0.0, 0.0, 0.0]\n",
            "ic| xp1.shape: (34865152,)\n",
            "ic| xp1: array([-180., -180., -180., ...,  180.,  180.,  180.])\n",
            "ic| xp2: matrix([[-164.82540342, -165.04494346, -165.26448349, ...,  165.26448349,\n",
            "                   165.04494346,  164.82540342]])\n",
            "ic| xp3: array([-164.82540342, -165.04494346, -165.26448349, ...,  165.26448349,\n",
            "                 165.04494346,  164.82540342])\n",
            "ic| xp1.size: 34865152\n",
            "ic| xp1.shape: (34865152,)\n",
            "ic| xp2.shape: (1, 34865152)\n",
            "ic| xp3.shape: (34865152,)\n",
            "ic| ixPh.max(): 3193\n",
            "ic| ixPh.min(): -2170\n",
            "ic| iyPh.max(): 3002\n",
            "ic| iyPh.min(): -1979\n",
            "ic| izPh.max(): 2\n",
            "ic| izPh.min(): -2\n"
          ]
        },
        {
          "output_type": "execute_result",
          "data": {
            "text/plain": [
              "-2"
            ]
          },
          "metadata": {},
          "execution_count": 56
        }
      ],
      "source": [
        "# Transform from lab frame 'grid' to phantom reference frame through a series of transformations\n",
        "#\n",
        "# Invert translation from Lab System origin to Phantom System origin\n",
        "ic(radius)\n",
        "ic(PhantomHalfZ)\n",
        "ic(TranslatePhantom)\n",
        "xp1 = xgrid-TranslatePhantom[0]\n",
        "yp1 = ygrid-TranslatePhantom[1]\n",
        "zp1 = zgrid-TranslatePhantom[2]\n",
        "ic(xp1.shape)\n",
        "\n",
        "v1 = np.array([xp1,yp1,zp1])\n",
        "v2 = R_Invert * v1\n",
        "\n",
        "xp2=v2[0,:]\n",
        "yp2=v2[1,:]\n",
        "zp2=v2[2,:]\n",
        "\n",
        "xp3=np.squeeze(np.asarray(xp2))\n",
        "yp3=np.squeeze(np.asarray(yp2))\n",
        "zp3=np.squeeze(np.asarray(zp2))\n",
        "ic(xp1)\n",
        "ic(xp2)\n",
        "ic(xp3)\n",
        "\n",
        "ic(xp1.size)\n",
        "ic(xp1.shape)\n",
        "ic(xp2.shape)\n",
        "ic(xp3.shape)\n",
        "\n",
        "ixPh=np.floor(((xp3+radius)/spacingPhantom[0])).astype(int)\n",
        "ic(ixPh.max())\n",
        "ic(ixPh.min())\n",
        "iyPh=np.floor(((yp3+radius)/spacingPhantom[1])).astype(int)\n",
        "ic(iyPh.max())\n",
        "ic(iyPh.min())\n",
        "izPh=np.floor(((zp3+PhantomHalfZ)/spacingPhantom[2])).astype(int)\n",
        "ic(izPh.max())\n",
        "ic(izPh.min())"
      ]
    },
    {
      "cell_type": "markdown",
      "metadata": {
        "id": "Qf6gthvWjR78"
      },
      "source": [
        "Insert phantom into source volume"
      ]
    },
    {
      "cell_type": "code",
      "execution_count": 57,
      "metadata": {
        "colab": {
          "base_uri": "https://localhost:8080/"
        },
        "outputId": "0e368af6-1796-46db-ac7d-15fcfe019d82",
        "id": "CyVg2jQPjR78"
      },
      "outputs": [
        {
          "output_type": "stream",
          "name": "stderr",
          "text": [
            "ic| volumeShape: [512, 512, 133]\n",
            "ic| volume.shape: (34865152,)\n",
            "ic| phantomMask.shape: (1024, 1024)\n",
            "ic| valid.shape: (34865152,)\n",
            "ic| Test.shape: (440960,)\n"
          ]
        }
      ],
      "source": [
        "volumeShape=[512, 512, 133]\n",
        "phantomShape=[1024,1024]\n",
        "ic(volumeShape)\n",
        "volume=np.zeros(volumeShape).flatten()\n",
        "ic(volume.shape)\n",
        "\n",
        "phantomMask=test_phantom.mask.reshape(1024,1024)\n",
        "ic(phantomMask.shape)\n",
        "\n",
        "validX=(ixPh>=0) & (ixPh<phantomShape[0])\n",
        "validY=(iyPh>=0) & (iyPh<phantomShape[1])\n",
        "validZ=(izPh>=0) & (izPh<1)\n",
        "valid=(validX & validY & validZ).flatten().T\n",
        "ic(valid.shape)\n",
        "ixPh2=ixPh[valid]\n",
        "iyPh2=iyPh[valid]\n",
        "Test=volume[valid]\n",
        "ic(Test.shape)\n",
        "volume[valid]=phantomMask[ixPh2,iyPh2]\n",
        "\n",
        "volume=volume.reshape(volumeShape)\n",
        "PVCvolume=np.zeros(volume.shape,dtype=np.float32)\n",
        "PVCvolume[1:511, 1:511, :] += volume[0:510, 0:510, :] / 9.\n",
        "PVCvolume[1:511, 1:511, :] += volume[0:510, 1:511, :] / 9.\n",
        "PVCvolume[1:511, 1:511, :] += volume[0:510, 2:512, :] / 9.\n",
        "PVCvolume[1:511, 1:511, :] += volume[1:511, 0:510, :] / 9.\n",
        "PVCvolume[1:511, 1:511, :] += volume[1:511, 1:511, :] / 9.\n",
        "PVCvolume[1:511, 1:511, :] += volume[1:511, 2:512, :] / 9.\n",
        "PVCvolume[1:511, 1:511, :] += volume[2:512, 0:510, :] / 9.\n",
        "PVCvolume[1:511, 1:511, :] += volume[2:512, 1:511, :] / 9.\n",
        "PVCvolume[1:511, 1:511, :] += volume[2:512, 2:512, :] / 9."
      ]
    },
    {
      "cell_type": "markdown",
      "metadata": {
        "id": "dAgGlDz9jR79"
      },
      "source": [
        "Display Phantom projections within volume"
      ]
    },
    {
      "cell_type": "code",
      "execution_count": 58,
      "metadata": {
        "colab": {
          "base_uri": "https://localhost:8080/",
          "height": 298
        },
        "outputId": "012affb9-96ab-47b1-9b7f-159189f43960",
        "id": "hcNxkUvDjR79"
      },
      "outputs": [
        {
          "output_type": "stream",
          "name": "stderr",
          "text": [
            "ic| PVCvolume.shape: (512, 512, 133)\n",
            "ic| SumX.shape: (512, 133)\n",
            "ic| SumY.shape: (512, 133)\n",
            "ic| SumZ.shape: (512, 512)\n"
          ]
        },
        {
          "output_type": "execute_result",
          "data": {
            "text/plain": [
              "<matplotlib.image.AxesImage at 0x7efcce3a33a0>"
            ]
          },
          "metadata": {},
          "execution_count": 58
        },
        {
          "output_type": "display_data",
          "data": {
            "text/plain": [
              "<Figure size 640x480 with 3 Axes>"
            ],
            "image/png": "[encoded data removed]"
          },
          "metadata": {}
        }
      ],
      "source": [
        "ic(PVCvolume.shape)\n",
        "SumX=PVCvolume.sum(0)\n",
        "SumY=PVCvolume.sum(1)\n",
        "SumZ=PVCvolume.sum(2)\n",
        "ic(SumX.shape)\n",
        "ic(SumY.shape)\n",
        "ic(SumZ.shape)\n",
        "\n",
        "plt.subplot(1,3,1)\n",
        "plt.imshow(np.flipud(SumX.T))\n",
        "plt.subplot(1,3,2)\n",
        "plt.imshow(np.flipud(SumY.T))\n",
        "plt.subplot(1,3,3)\n",
        "plt.imshow(np.flipud(SumZ.T))"
      ]
    },
    {
      "cell_type": "markdown",
      "source": [
        "Display axial projection"
      ],
      "metadata": {
        "id": "0PK01vMqjR79"
      }
    },
    {
      "cell_type": "code",
      "source": [
        "plt.imshow(np.flipud(SumZ[192:309,192:309].T))\n",
        "plt.title('T=[0,0,0], R=[pi/2.,5*(pi;180,0)]')"
      ],
      "metadata": {
        "colab": {
          "base_uri": "https://localhost:8080/",
          "height": 469
        },
        "outputId": "93da47cf-4bb2-4b9d-d77e-6c0a2fcd04c6",
        "id": "_BSaX8XCjR79"
      },
      "execution_count": 59,
      "outputs": [
        {
          "output_type": "execute_result",
          "data": {
            "text/plain": [
              "Text(0.5, 1.0, 'T=[0,0,0], R=[pi/2.,5*(pi;180,0)]')"
            ]
          },
          "metadata": {},
          "execution_count": 59
        },
        {
          "output_type": "display_data",
          "data": {
            "text/plain": [
              "<Figure size 640x480 with 1 Axes>"
            ],
            "image/png": "[encoded data removed]"
          },
          "metadata": {}
        }
      ]
    }
  ],
  "metadata": {
    "colab": {
      "provenance": [],
      "authorship_tag": "ABX9TyNHLRnNQyuaeIGmkhYxlbVp",
      "include_colab_link": true
    },
    "kernelspec": {
      "display_name": "Python 3",
      "name": "python3"
    },
    "language_info": {
      "name": "python"
    }
  },
  "nbformat": 4,
  "nbformat_minor": 0
}