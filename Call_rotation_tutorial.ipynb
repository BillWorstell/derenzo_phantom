{
  "nbformat": 4,
  "nbformat_minor": 0,
  "metadata": {
    "colab": {
      "provenance": [],
      "toc_visible": true,
      "authorship_tag": "ABX9TyNg1L5ZgOA9o96wl2yP0Nd5",
      "include_colab_link": true
    },
    "kernelspec": {
      "name": "python3",
      "display_name": "Python 3"
    },
    "language_info": {
      "name": "python"
    }
  },
  "cells": [
    {
      "cell_type": "markdown",
      "metadata": {
        "id": "view-in-github",
        "colab_type": "text"
      },
      "source": [
        "<a href=\"https://colab.research.google.com/github/BillWorstell/derenzo_phantom/blob/master/Call_rotation_tutorial.ipynb\" target=\"_parent\"><img src=\"https://colab.research.google.com/assets/colab-badge.svg\" alt=\"Open In Colab\"/></a>"
      ]
    },
    {
      "cell_type": "code",
      "execution_count": 1,
      "metadata": {
        "colab": {
          "base_uri": "https://localhost:8080/"
        },
        "id": "fV-xGPLJU6eU",
        "outputId": "72bf603a-3999-4b3e-8f0b-20452c345710"
      },
      "outputs": [
        {
          "output_type": "stream",
          "name": "stdout",
          "text": [
            "fatal: destination path 'derenzo_phantom' already exists and is not an empty directory.\n",
            "\u001b[31mERROR: Could not open requirements file: [Errno 2] No such file or directory: 'derenzo_phantom/requirements.txt'\u001b[0m\u001b[31m\n",
            "\u001b[0mObtaining file:///content/derenzo_phantom\n",
            "\u001b[31mERROR: file:///content/derenzo_phantom does not appear to be a Python project: neither 'setup.py' nor 'pyproject.toml' found.\u001b[0m\u001b[31m\n",
            "\u001b[0m"
          ]
        }
      ],
      "source": [
        "!git clone https://github.com/PicoRad-Imaging/derenzo_phantom.git\n",
        "!pip install -r derenzo_phantom/requirements.txt\n",
        "!pip install -e derenzo_phantom"
      ]
    }
  ]
}